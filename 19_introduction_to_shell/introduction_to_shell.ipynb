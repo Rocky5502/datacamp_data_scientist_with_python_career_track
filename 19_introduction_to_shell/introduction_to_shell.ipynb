{
 "cells": [
  {
   "cell_type": "markdown",
   "metadata": {},
   "source": [
    "# <center>Introduction to Shell</center>\n",
    "\n",
    "[Data Camp Link](https://www.datacamp.com/courses/introduction-to-shell-for-data-science)\n",
    "\n",
    "[Chapter 1: Manipulating files and directories](#Chapter-1:-Manipulating-files-and-directories) <br>\n",
    "[Chapter 2: Manipulating data](#Chapter-2:-Manipulating-data) <br>\n",
    "[Chapter 3: Combining tools](#Chapter-3:-Combining-tools) <br>\n",
    "[Chapter 4: Batch processing](#Chapter-4:-Batch-processing) <br> \n",
    "[Chapter 5: Creating new tools](#Chapter-5:-Creating-new-tools)"
   ]
  },
  {
   "cell_type": "markdown",
   "metadata": {},
   "source": [
    "# Chapter 1: Manipulating files and directories"
   ]
  },
  {
   "cell_type": "markdown",
   "metadata": {},
   "source": [
    "### How does the shell compare to a desktop interface?\n",
    "\n",
    "An operating system like Windows, Linux, or Mac OS is a special kind of program. It controls the computer's processor, hard drive, and network connection, but its most important job is to run other programs.\n",
    "\n",
    "Since human beings aren't digital, they need an interface to interact with the operating system. The most common one these days is a graphical file explorer, which translates clicks and double-clicks into commands to open files and run programs. Before computers had graphical displays, though, people typed instructions into a program called a **command-line shell**. Each time a command is entered, the shell runs some other programs, prints their output in human-readable form, and then displays a *prompt* to signal that it's ready to accept the next command. (Its name comes from the notion that it's the \"outer shell\" of the computer.)\n",
    "\n",
    "Typing commands instead of clicking and dragging may seem clumsy at first, but as you will see, once you start spelling out what you want the computer to do, you can combine old commands to create new ones and automate repetitive operations with just a few keystrokes.\n",
    "\n",
    "----\n",
    "\n",
    "What is the relationship between the graphical file explorer that most people use and the command-line shell?"
   ]
  },
  {
   "cell_type": "markdown",
   "metadata": {},
   "source": [
    "- The file explorer lets you view and edit files, while the shell lets you run programs.\n",
    "- The file explorer is built on top of the shell.\n",
    "- The shell is part of the operating system, while the file explorer is separate.\n",
    "- **They are both interfaces for issuing commands to the operating system**."
   ]
  },
  {
   "cell_type": "markdown",
   "metadata": {},
   "source": [
    "----"
   ]
  },
  {
   "cell_type": "markdown",
   "metadata": {},
   "source": [
    "### Where am I?\n",
    "\n",
    "The **filesystem** manages files and directories (or folders). Each is identified by an **absolute path** that shows how to reach it from the filesystem's **root directory**: `/home/repl` is the directory `repl` in the directory `home`, while `/home/repl/course.txt` is a file `course.txt` in that directory, and `/` on its own is the root directory.\n",
    "\n",
    "To find out where you are in the filesystem, run the command `pwd` (short for \"**p**rint **w**orking **d**irectory\"). This prints the absolute path of your **current working directory**, which is where the shell runs commands and looks for files by default.\n",
    "\n",
    "----\n",
    "\n",
    "Run `pwd`. Where are you right now?"
   ]
  },
  {
   "cell_type": "markdown",
   "metadata": {},
   "source": [
    "<p style=\"background:black\">\n",
    "<code style=\"background:black;color:white\"><span style=\"font-family:Consolas\">$ pwd<br>/home/repl</span>\n",
    "</code>\n",
    "</p>"
   ]
  },
  {
   "cell_type": "markdown",
   "metadata": {},
   "source": [
    "----"
   ]
  },
  {
   "cell_type": "markdown",
   "metadata": {},
   "source": [
    "### How can I identify files and directories?\n",
    "\n",
    "`pwd` tells you where you are. To find out what's there, type `ls` (which is short for \"**l**i**s**ting\") and press the enter key. On its own, `ls` lists the contents of your current directory (the one displayed by `pwd`). If you add the names of some files, `ls` will list them, and if you add the names of directories, it will list their contents. For example, `ls /home/repl` shows you what's in your starting directory (usually called your **home directory**).\n",
    "\n",
    "----\n",
    "\n",
    "Use `ls` with an appropriate argument to list the files in the directory `/home/repl/seasonal` (which holds information on dental surgeries by date, broken down by season). Which of these files is *not* in that directory?"
   ]
  },
  {
   "cell_type": "markdown",
   "metadata": {},
   "source": [
    "#### Possible Answers\n",
    "\n",
    "- autumn.csv\n",
    "- **fall.csv**\n",
    "- spring.csv\n",
    "- winter.csv"
   ]
  },
  {
   "cell_type": "markdown",
   "metadata": {},
   "source": [
    "<p style=\"background:black\">\n",
    "<code style=\"background:black;color:white\"><span style=\"font-family:Consolas\">$ ls /home/repl/seasonal\n",
    "autumn.csv  spring.csv  summer.csv  winter.csv</span>\n",
    "</code>\n",
    "</p>"
   ]
  },
  {
   "cell_type": "markdown",
   "metadata": {},
   "source": [
    "----"
   ]
  },
  {
   "cell_type": "markdown",
   "metadata": {},
   "source": [
    "### How else can I identify files and directories?\n",
    "\n",
    "An absolute path is like a latitude and longitude: it has the same value no matter where you are. A **relative path**, on the other hand, specifies a location starting from where you are: it's like saying \"20 kilometers north\".\n",
    "\n",
    "As examples:\n",
    "\n",
    "- If you are in the directory `/home/repl`, the **relative** path `seasonal` specifies the same directory as the **absolute** path `/home/repl/seasonal`.\n",
    "- If you are in the directory `/home/repl/seasonal`, the **relative** path `winter.csv` specifies the same file as the **absolute** path `/home/repl/seasonal/winter.csv`.\n",
    "\n",
    "The shell decides if a path is absolute or relative by looking at its first character: If it begins with `/`, it is absolute. If it *does not* begin with `/`, it is relative.\n",
    "\n",
    "#### Instructions\n",
    "1. You are in `/home/repl`. Use `ls` with a **relative** path to list the file that has an absolute path of `/home/repl/course.txt` (and only that file).\n",
    "2. You are in `/home/repl`. Use `ls` with a **relative** path to list the file `/home/repl/seasonal/summer.csv` (and only that file).\n",
    "3. You are in `/home/repl`. Use `ls` with a **relative** path to list the contents of the directory `/home/repl/people`."
   ]
  },
  {
   "cell_type": "markdown",
   "metadata": {},
   "source": [
    "<p style=\"background:black\">\n",
    "<code style=\"background:black;color:white\"><span style=\"font-family:Consolas\">$ ls course.txt\n",
    "course.txt\n",
    "$ ls seasonal/summer.csv\n",
    "seasonal/summer.csv\n",
    "$ ls people\n",
    "agarwal.txt</span>\n",
    "</code>\n",
    "</p>"
   ]
  },
  {
   "cell_type": "markdown",
   "metadata": {},
   "source": [
    "----"
   ]
  },
  {
   "cell_type": "markdown",
   "metadata": {},
   "source": [
    "### How can I move to another directory?\n",
    "\n",
    "Just as you can move around in a file browser by double-clicking on folders, you can move around in the filesystem using the command `cd` (which stands for \"change directory\").\n",
    "\n",
    "If you type `cd seasonal` and then type `pwd`, the shell will tell you that you are now in `/home/repl/seasonal`. If you then run `ls` on its own, it shows you the contents of `/home/repl/seasonal`, because that's where you are. If you want to get back to your home directory `/home/repl`, you can use the command `cd /home/repl`.\n",
    "\n",
    "#### Instructions\n",
    "\n",
    "1. You are in `/home/repl/`. Change directory to `/home/repl/seasonal` using a relative path.\n",
    "2. Use `pwd` to check that you're there.\n",
    "3. Use `ls` without any paths to see what's in that directory."
   ]
  },
  {
   "cell_type": "markdown",
   "metadata": {},
   "source": [
    "<p style=\"background:black\">\n",
    "<code style=\"background:black;color:white\"><span style=\"font-family:Consolas\">$ cd seasonal\n",
    "$ pwd\n",
    "/home/repl/seasonal\n",
    "$ ls\n",
    "autumn.csv  spring.csv  summer.csv  winter.csv</span>\n",
    "</code>\n",
    "</p>"
   ]
  },
  {
   "cell_type": "markdown",
   "metadata": {},
   "source": [
    "----"
   ]
  },
  {
   "cell_type": "markdown",
   "metadata": {},
   "source": [
    "### How can I move up a directory?\n",
    "\n",
    "The **parent** of a directory is the directory above it. For example, `/home` is the parent of `/home/repl`, and `/home/repl` is the parent of `/home/repl/seasonal`. You can always give the absolute path of your parent directory to commands like `cd` and `ls`. More often, though, you will take advantage of the fact that the special path `..` (two dots with no spaces) means \"the directory above the one I'm currently in\". If you are in `/home/repl/seasonal`, then `cd ..` moves you up to `/home/repl`. If you use `cd ..` once again, it puts you in `/home`. One more `cd ..` puts you in the *root directory* /, which is the very top of the filesystem. (Remember to put a space between `cd` and `..` - it is a command and a path, not a single four-letter command.)\n",
    "\n",
    "A single dot on its own, `.`, always means \"the current directory\", so `ls` on its own and `ls .` do the same thing, while `cd .` has no effect (because it moves you into the directory you're currently in).\n",
    "\n",
    "One final special path is `~` (the tilde character), which means \"your home directory\", such as `/home/repl`. No matter where you are, `ls ~` will always list the contents of your home directory, and `cd ~` will always take you home.\n",
    "\n",
    "----\n",
    "\n",
    "If you are in `/home/repl/seasonal`, where does `cd ~/../.` take you?"
   ]
  },
  {
   "cell_type": "markdown",
   "metadata": {},
   "source": [
    "<p style=\"background:black\">\n",
    "<code style=\"background:black;color:white\"><span style=\"font-family:Consolas\">/home</span>\n",
    "</code>\n",
    "</p>"
   ]
  },
  {
   "cell_type": "markdown",
   "metadata": {},
   "source": [
    "----"
   ]
  },
  {
   "cell_type": "markdown",
   "metadata": {},
   "source": [
    "### How can I copy files?\n",
    "\n",
    "You will often want to copy files, move them into other directories to organize them, or rename them. One command to do this is `cp`, which is short for \"copy\". If `original.txt` is an existing file, then:\n",
    "\n",
    "```shell\n",
    "cp original.txt duplicate.txt\n",
    "```\n",
    "\n",
    "creates a copy of `original.txt` called `duplicate.txt`. If there already was a file called `duplicate.txt`, it is overwritten. If the last parameter to `cp` is an existing directory, then a command like:\n",
    "\n",
    "```shell\n",
    "cp seasonal/autumn.csv seasonal/winter.csv backup\n",
    "```\n",
    "\n",
    "copies all of the files into that directory.\n",
    "\n",
    "#### Instructions\n",
    "\n",
    "- Make a copy of `seasonal/summer.csv` in the `backup` directory (which is also in `/home/repl`), calling the new file `summer.bck`.\n",
    "- Copy `spring.csv` and `summer.csv` from the `seasonal` directory into the `backup` directory *without* changing your current working directory (`/home/repl`)."
   ]
  },
  {
   "cell_type": "markdown",
   "metadata": {},
   "source": [
    "<p style=\"background:black\">\n",
    "<code style=\"background:black;color:white\"><span style=\"font-family:Consolas\">$ cp seasonal/summer.csv backup/summer.bck\n",
    "$ cp seasonal/spring.csv seasonal/summer.csv backup</span>\n",
    "</code>\n",
    "</p>"
   ]
  },
  {
   "cell_type": "markdown",
   "metadata": {},
   "source": [
    "----"
   ]
  },
  {
   "cell_type": "markdown",
   "metadata": {},
   "source": [
    "### How can I move a file?\n",
    "\n",
    "While `cp` copies a file, `mv` moves it from one directory to another, just as if you had dragged it in a graphical file browser. It handles its parameters the same way as `cp`, so the command:\n",
    "\n",
    "```shell\n",
    "mv autumn.csv winter.csv ..\n",
    "```\n",
    "\n",
    "moves the files `autumn.csv` and `winter.csv` from the current working directory up one level to its parent directory (because `..` always refers to the directory above your current location).\n",
    "\n",
    "#### Instructions\n",
    "\n",
    "You are in `/home/repl`, which has sub-directories `seasonal` and `backup`. Using a single command, move `spring.csv` and `summer.csv` from `seasonal` to `backup``."
   ]
  },
  {
   "cell_type": "markdown",
   "metadata": {},
   "source": [
    "<p style=\"background:black\">\n",
    "<code style=\"background:black;color:white\"><span style=\"font-family:Consolas\">$ mv seasonal/spring.csv seasonal/summer.csv backup</span>\n",
    "</code>\n",
    "</p>"
   ]
  },
  {
   "cell_type": "markdown",
   "metadata": {},
   "source": [
    "----"
   ]
  },
  {
   "cell_type": "markdown",
   "metadata": {},
   "source": [
    "### How can I rename files?\n",
    "\n",
    "`mv` can also be used to rename files. If you run:\n",
    "\n",
    "```shell\n",
    "mv course.txt old-course.txt\n",
    "```\n",
    "\n",
    "then the file `course.txt` in the current working directory is \"moved\" to the file `old-course.txt`. This is different from the way file browsers work, but is often handy.\n",
    "\n",
    "One warning: just like `cp`, `mv` will overwrite existing files. If, for example, you already have a file called `old-course.txt`, then the command shown above will replace it with whatever is in `course.txt`.\n",
    "\n",
    "#### Instructions\n",
    "\n",
    "- Go into the `seasonal` directory.\n",
    "- Rename the file `winter.csv` to be `winter.csv.bck`.\n",
    "- Run `ls` to check that everything has worked."
   ]
  },
  {
   "cell_type": "markdown",
   "metadata": {},
   "source": [
    "<p style=\"background:black\">\n",
    "<code style=\"background:black;color:white\"><span style=\"font-family:Consolas\">$ cd seasonal\n",
    "$ mv winter.csv winter.csv.bck\n",
    "$ ls\n",
    "autumn.csv  spring.csv  summer.csv  winter.csv.bck</span>\n",
    "</code>\n",
    "</p>"
   ]
  },
  {
   "cell_type": "markdown",
   "metadata": {},
   "source": [
    "----"
   ]
  },
  {
   "cell_type": "markdown",
   "metadata": {},
   "source": [
    "### How can I delete files?\n",
    "\n",
    "We can copy files and move them around; to delete them, we use `rm`, which stands for \"remove\". As with `cp` and `mv`, you can give `rm` the names of as many files as you'd like, so:\n",
    "\n",
    "```shell\n",
    "rm thesis.txt backup/thesis-2017-08.txt\n",
    "```\n",
    "\n",
    "removes both `thesis.txt` and `backup/thesis-2017-08.txt`\n",
    "\n",
    "`rm` does exactly what its name says, and it does it right away: unlike graphical file browsers, the shell doesn't have a trash can, so when you type the command above, your thesis is gone for good.\n",
    "\n",
    "#### Instructions\n",
    "\n",
    "- You are in `/home/repl`. Go into the `seasonal` directory.\n",
    "- Remove `autumn.csv`.\n",
    "- Go back to your home directory.\n",
    "- Remove `seasonal/summer.csv` without changing directories again."
   ]
  },
  {
   "cell_type": "markdown",
   "metadata": {},
   "source": [
    "<p style=\"background:black\">\n",
    "<code style=\"background:black;color:white\"><span style=\"font-family:Consolas\">$ cd seasonal\n",
    "$ rm autumn.csv\n",
    "$ cd ~\n",
    "$ rm seasonal/summer.csv</span>\n",
    "</code>\n",
    "</p>"
   ]
  },
  {
   "cell_type": "markdown",
   "metadata": {},
   "source": [
    "----"
   ]
  },
  {
   "cell_type": "markdown",
   "metadata": {},
   "source": [
    "### How can I create and delete directories?\n",
    "\n",
    "`mv` treats directories the same way it treats files: if you are in your home directory and run `mv seasonal by-season`, for example, `mv` changes the name of the `seasonal` directory to `by-season`. However, `rm` works differently.\n",
    "\n",
    "If you try to `rm` a directory, the shell prints an error message telling you it can't do that, primarily to stop you from accidentally deleting an entire directory full of work. Instead, you can use a separate command called `rmdir`. For added safety, it only works when the directory is empty, so you must delete the files in a directory *before* you delete the directory. (Experienced users can use the `-r` option to `rm` to get the same effect; we will discuss command options in the next chapter.)\n",
    "\n",
    "#### Instructions\n",
    "\n",
    "- Without changing directories, delete the file `agarwal.txt` in the `people` directory.\n",
    "- Now that the `people` directory is empty, use a single command to delete it.\n",
    "- Since a directory is not a file, you must use the command `mkdir directory_name` to create a new (empty) directory. Use this command to create a new directory called `yearly` below your home directory.\n",
    "- Now that `yearly` exists, create another directory called `2017` inside it *without* leaving your home directory."
   ]
  },
  {
   "cell_type": "markdown",
   "metadata": {},
   "source": [
    "<p style=\"background:black\">\n",
    "<code style=\"background:black;color:white\"><span style=\"font-family:Consolas\">$ rm people/agarwal.txt\n",
    "$ rmdir people\n",
    "$ mkdir yearly\n",
    "$ mkdir yearly/2017</span>\n",
    "</code>\n",
    "</p>"
   ]
  },
  {
   "cell_type": "markdown",
   "metadata": {},
   "source": [
    "----"
   ]
  },
  {
   "cell_type": "markdown",
   "metadata": {},
   "source": [
    "### Wrapping up\n",
    "\n",
    "You will often create intermediate files when analyzing data. Rather than storing them in your home directory, you can put them in `/tmp`, which is where people and programs often keep files they only need briefly. (Note that `/tmp` is immediately below the root directory `/`, not below your home directory.) This wrap-up exercise will show you how to do that.\n",
    "\n",
    "#### Instructions\n",
    "\n",
    "- Use `cd` to go into `/tmp`.\n",
    "- List the contents of `/tmp` *without* typing a directory name.\n",
    "- Make a new directory inside `/tmp` called `scratch`.\n",
    "- Move `/home/repl/people/agarwal.txt` into `/tmp/scratch`. We suggest you use the `~` shortcut for your home directory and a relative path for the second rather than the absolute path."
   ]
  },
  {
   "cell_type": "markdown",
   "metadata": {},
   "source": [
    "<p style=\"background:black\">\n",
    "<code style=\"background:black;color:white\"><span style=\"font-family:Consolas\">$ cd /tmp\n",
    "$ ls\n",
    "tmp0cnj28z_  tmp21nny9th  tmp7jdam11b  tmpgpwis3gk  tmpp7e_w4lz  tmpwq2xbgx4\n",
    "$ mkdir scratch\n",
    "$ mv ~/people/agarwal.txt /tmp/scratch</span>\n",
    "</code>\n",
    "</p>"
   ]
  },
  {
   "cell_type": "markdown",
   "metadata": {},
   "source": [
    "----"
   ]
  },
  {
   "cell_type": "markdown",
   "metadata": {},
   "source": [
    "# Chapter 2: Manipulating data"
   ]
  },
  {
   "cell_type": "markdown",
   "metadata": {},
   "source": [
    "### How can I view a file's contents?\n",
    "\n",
    "Before you rename or delete files, you may want to have a look at their contents. The simplest way to do this is with `cat`, which just prints the contents of files onto the screen. (Its name is short for \"concatenate\", meaning \"to link things together\", since it will print all the files whose names you give it, one after the other.)\n",
    "\n",
    "```shell\n",
    "cat agarwal.txt\n",
    "```\n",
    "\n",
    "```shell\n",
    "name: Agarwal, Jasmine\n",
    "position: RCT2\n",
    "start: 2017-04-01\n",
    "benefits: full\n",
    "```\n",
    "\n",
    "#### Instructions\n",
    "\n",
    "- Print the contents of `course.txt` to the screen."
   ]
  },
  {
   "cell_type": "markdown",
   "metadata": {},
   "source": [
    "<p style=\"background:black\">\n",
    "<code style=\"background:black;color:white\"><span style=\"font-family:Consolas\">$ cat course.txt\n",
    "Introduction to the Unix Shell for Data Science\n",
    "The Unix command line has survived and thrived for almost fifty years\n",
    "because it lets people to do complex things with just a few\n",
    "keystrokes. Sometimes called \"the duct tape of programming\", it helps\n",
    "users combine existing programs in new ways, automate repetitive\n",
    "tasks, and run programs on clusters and clouds that may be halfway\n",
    "around the world. This lesson will introduce its key elements and show\n",
    "you how to use them efficiently.</span>\n",
    "</code>\n",
    "</p>"
   ]
  },
  {
   "cell_type": "markdown",
   "metadata": {},
   "source": [
    "----"
   ]
  },
  {
   "cell_type": "markdown",
   "metadata": {},
   "source": [
    "### How can I view a file's contents piece by piece?\n",
    "\n",
    "You can use cat to print large files and then scroll through the output, but it is usually more convenient to **page** the output. The original command for doing this was called `more`, but it has been superseded by a more powerful command called `less`. (This kind of naming is what passes for humor in the Unix world.) When you `less` a file, one page is displayed at a time; you can press spacebar to page down or type `q` to quit.\n",
    "\n",
    "If you give `less` the names of several files, you can type `:n` (colon and a lower-case 'n') to move to the next file, `:p` to go back to the previous one, or `:q` to quit.\n",
    "\n",
    "Note: If you view solutions to exercises that use `less`, you will see an extra command at the end that turns paging off so that we can test your solutions efficiently.\n",
    "\n",
    "#### Instructions\n",
    "\n",
    "- Use `less seasonal/spring.csv seasonal/summer.csv` to view those two files in that order. Press spacebar to page down, `:n` to go to the second file, and `:q` to quit."
   ]
  },
  {
   "cell_type": "markdown",
   "metadata": {},
   "source": [
    "<p style=\"background:black\">\n",
    "<code style=\"background:black;color:white\"><span style=\"font-family:Consolas\">$ less seasonal/spring.csv seasonal/summer.csv\n",
    "Date,Tooth\n",
    "2017-01-25,wisdom\n",
    "2017-02-19,canine\n",
    "2017-02-24,canine\n",
    "2017-02-28,wisdom\n",
    "2017-03-04,incisor\n",
    "2017-03-12,wisdom\n",
    "2017-03-14,incisor\n",
    "2017-03-21,molar\n",
    "2017-04-29,wisdom\n",
    "2017-05-08,canine\n",
    "2017-05-20,canine\n",
    "2017-05-21,canine\n",
    "2017-05-25,canine\n",
    "2017-06-04,molar\n",
    "2017-06-13,bicuspid\n",
    "2017-06-14,canine\n",
    "2017-07-10,incisor\n",
    "2017-07-16,bicuspid\n",
    "2017-07-23,bicuspid\n",
    "2017-08-13,bicuspid\n",
    "2017-08-13,incisor\n",
    "2017-08-13,wisdom\n",
    "2017-09-07,molar\n",
    "seasonal/spring.csv (file 1 of 2)</span>\n",
    "</code>\n",
    "</p>"
   ]
  },
  {
   "cell_type": "markdown",
   "metadata": {},
   "source": [
    "----"
   ]
  },
  {
   "cell_type": "markdown",
   "metadata": {},
   "source": [
    "### How can I look at the start of a file?\n",
    "\n",
    "The first thing most data scientists do when given a new dataset to analyze is figure out what fields it contains and what values those fields have. If the dataset has been exported from a database or spreadsheet, it will often be stored as **comma-separated values** (CSV). A quick way to figure out what it contains is to look at the first few rows.\n",
    "\n",
    "We can do this in the shell using a command called `head`. As its name suggests, it prints the first few lines of a file (where \"a few\" means 10), so the command:\n",
    "\n",
    "```shell\n",
    "head seasonal/summer.csv\n",
    "```\n",
    "\n",
    "displays:\n",
    "\n",
    "```shell\n",
    "Date,Tooth\n",
    "2017-01-11,canine\n",
    "2017-01-18,wisdom\n",
    "2017-01-21,bicuspid\n",
    "2017-02-02,molar\n",
    "2017-02-27,wisdom\n",
    "2017-02-27,wisdom\n",
    "2017-03-07,bicuspid\n",
    "2017-03-15,wisdom\n",
    "2017-03-20,canine\n",
    "```\n",
    "\n",
    "What does `head` do if there aren't 10 lines in the file? (To find out, use it to look at the top of `people/agarwal.txt`.)\n",
    "\n",
    "#### Possible Answers\n",
    "\n",
    "- Print an error message because the file is too short.\n",
    "- **Display as many lines as there are**.\n",
    "- Display enough blank lines to bring the total to 10."
   ]
  },
  {
   "cell_type": "markdown",
   "metadata": {},
   "source": [
    "<p style=\"background:black\">\n",
    "<code style=\"background:black;color:white\"><span style=\"font-family:Consolas\">$ head people/agarwal.txt\n",
    "name: Agarwal, Jasmine\n",
    "position: RCT2\n",
    "start: 2017-04-01\n",
    "benefits: full</span>\n",
    "</code>\n",
    "</p>"
   ]
  },
  {
   "cell_type": "markdown",
   "metadata": {},
   "source": [
    "----"
   ]
  },
  {
   "cell_type": "markdown",
   "metadata": {},
   "source": [
    "### How can I type less?\n",
    "\n",
    "One of the shell's power tools is **tab completion**. If you start typing the name of a file and then press the tab key, the shell will do its best to auto-complete the path. For example, if you type `sea` and press tab, it will fill in the directory name `seasonal/` (with a trailing slash). If you then type `a` and tab, it will complete the path as `seasonal/autumn.csv`.\n",
    "\n",
    "If the path is ambiguous, such as `seasonal/s`, pressing tab a second time will display a list of possibilities. Typing another character or two to make your path more specific and then pressing tab will fill in the rest of the name.\n",
    "\n",
    "#### Instructions\n",
    "\n",
    "1. Run `head seasonal/autumn.csv` without typing the full filename.\n",
    "2. Run `head seasonal/spring.csv` without typing the full filename."
   ]
  },
  {
   "cell_type": "markdown",
   "metadata": {},
   "source": [
    "<p style=\"background:black\">\n",
    "<code style=\"background:black;color:white\"><span style=\"font-family:Consolas\">$ head seasonal/autumn.csv\n",
    "Date,Tooth\n",
    "2017-01-05,canine\n",
    "2017-01-17,wisdom\n",
    "2017-01-18,canine\n",
    "2017-02-01,molar\n",
    "2017-02-22,bicuspid\n",
    "2017-03-10,canine\n",
    "2017-03-13,canine\n",
    "2017-04-30,incisor\n",
    "2017-05-02,canine\n",
    "$ head seasonal/spring.csv\n",
    "Date,Tooth\n",
    "2017-01-25,wisdom\n",
    "2017-02-19,canine\n",
    "2017-02-24,canine\n",
    "2017-02-28,wisdom\n",
    "2017-03-04,incisor\n",
    "2017-03-12,wisdom\n",
    "2017-03-14,incisor\n",
    "2017-03-21,molar\n",
    "2017-04-29,wisdom</span>\n",
    "</code>\n",
    "</p>"
   ]
  },
  {
   "cell_type": "markdown",
   "metadata": {},
   "source": [
    "----"
   ]
  },
  {
   "cell_type": "markdown",
   "metadata": {},
   "source": [
    "### How can I control what commands do?\n",
    "\n",
    "You won't always want to look at the first 10 lines of a file, so the shell lets you change `head`'s behavior by giving it a **command-line flag** (or just \"flag\" for short). If you run the command:\n",
    "\n",
    "```shell\n",
    "head -n 3 seasonal/summer.csv\n",
    "```\n",
    "\n",
    "`head` will only display the first three lines of the file. If you run `head -n 100`, it will display the first 100 (assuming there are that many), and so on.\n",
    "\n",
    "A flag's name usually indicates its purpose (for example, `-n` is meant to signal \"**n**umber of lines\"). Command flags don't have to be a `-` followed by a single letter, but it's a widely-used convention.\n",
    "\n",
    "Note: it's considered good style to put all flags before any filenames, so in this course, we only accept answers that do that.\n",
    "\n",
    "#### Instructions\n",
    "\n",
    "- Display the first 5 lines of `winter.csv` in the `seasonal` directory."
   ]
  },
  {
   "cell_type": "markdown",
   "metadata": {},
   "source": [
    "<p style=\"background:black\">\n",
    "<code style=\"background:black;color:white\"><span style=\"font-family:Consolas\">$ head -n 5 seasonal/winter.csv\n",
    "Date,Tooth\n",
    "2017-01-03,bicuspid\n",
    "2017-01-05,incisor\n",
    "2017-01-21,wisdom\n",
    "2017-02-05,molar</span>\n",
    "</code>\n",
    "</p>"
   ]
  },
  {
   "cell_type": "markdown",
   "metadata": {},
   "source": [
    "----"
   ]
  },
  {
   "cell_type": "markdown",
   "metadata": {},
   "source": [
    "### How can I list everything below a directory?\n",
    "\n",
    "In order to see everything underneath a directory, no matter how deeply nested it is, you can give `ls` the flag `-R` (which means \"recursive\"). If you use `ls -R` in your home directory, you will see something like this:\n",
    "\n",
    "```\n",
    "backup          course.txt      people          seasonal\n",
    "\n",
    "./backup:\n",
    "\n",
    "./people:\n",
    "agarwal.txt\n",
    "\n",
    "./seasonal:\n",
    "autumn.csv      spring.csv      summer.csv      winter.csv\n",
    "```\n",
    "\n",
    "This shows every file and directory in the current level, then everything in each sub-directory, and so on.\n",
    "\n",
    "#### Instructions\n",
    "\n",
    "- To help you know what is what, `ls` has another flag `-F` that prints a `/` after the name of every directory and a `*` after the name of every runnable program. Run `ls` with the two flags, `-R` and `-F`, and the absolute path to your home directory to see everything it contains. (The order of the flags doesn't matter, but the directory name must come last.)"
   ]
  },
  {
   "cell_type": "markdown",
   "metadata": {},
   "source": [
    "<p style=\"background:black\">\n",
    "<code style=\"background:black;color:white\"><span style=\"font-family:Consolas\">$ ls -R -F\n",
    ".:\n",
    "backup/  bin/  course.txt  people/  seasonal/\n",
    "./backup:\n",
    "./bin:\n",
    "./people:\n",
    "agarwal.txt\n",
    "./seasonal:\n",
    "autumn.csv  spring.csv  summer.csv  winter.csv</span>\n",
    "</code>\n",
    "</p>"
   ]
  },
  {
   "cell_type": "markdown",
   "metadata": {},
   "source": [
    "----"
   ]
  },
  {
   "cell_type": "markdown",
   "metadata": {},
   "source": [
    "### How can I get help for a command?\n",
    "\n",
    "To find out what commands do, people used to use the `man` command (short for \"manual\"). For example, the command `man head` brings up this information:\n",
    "\n",
    "```shell\n",
    "HEAD(1)               BSD General Commands Manual              HEAD(1)\n",
    "\n",
    "NAME\n",
    "     head -- display first lines of a file\n",
    "\n",
    "SYNOPSIS\n",
    "     head [-n count | -c bytes] [file ...]\n",
    "\n",
    "DESCRIPTION\n",
    "     This filter displays the first count lines or bytes of each of\n",
    "     the specified files, or of the standard input if no files are\n",
    "     specified.  If count is omitted it defaults to 10.\n",
    "\n",
    "     If more than a single file is specified, each file is preceded by\n",
    "     a header consisting of the string ``==> XXX <=='' where ``XXX''\n",
    "     is the name of the file.\n",
    "\n",
    "SEE ALSO\n",
    "     tail(1)\n",
    "```\n",
    "\n",
    "`man` automatically invokes `less`, so you may need to press spacebar to page through the information and `:q` to quit.\n",
    "\n",
    "The one-line description under `NAME` tells you briefly what the command does, and the summary under `SYNOPSIS` lists all the flags it understands. Anything that is optional is shown in square brackets `[...]`, either/or alternatives are separated by `|`, and things that can be repeated are shown by `...`, so `head`'s manual page is telling you that you can *either* give a line count with `-n` or a byte count with `-c`, and that you can give it any number of filenames.\n",
    "\n",
    "The problem with the Unix manual is that you have to know what you're looking for. If you don't, you can search [Stack Overflow](https://stackoverflow.com/), ask a question on DataCamp's Slack channels, or look at the `SEE ALSO` sections of the commands you already know.\n",
    "\n",
    "#### Instructions\n",
    "\n",
    "1. Read the manual page for the `tail` command to find out what putting a `+` sign in front of the number used with the `-n` flag does. (Remember to press spacebar to page down and/or type `q` to quit.)\n",
    "2. Use `tail` with the flag `-n +7` to display all but the first six lines of `seasonal/spring.csv`."
   ]
  },
  {
   "cell_type": "markdown",
   "metadata": {},
   "source": [
    "<p style=\"background:black\">\n",
    "<code style=\"background:black;color:white\"><span style=\"font-family:Consolas\">$ man tail\n",
    "$ tail -n +7 seasonal/spring.csv\n",
    "2017-03-12,wisdom\n",
    "2017-03-14,incisor\n",
    "2017-03-21,molar\n",
    "2017-04-29,wisdom\n",
    "2017-05-08,canine\n",
    "2017-05-20,canine\n",
    "2017-05-21,canine\n",
    "2017-05-25,canine\n",
    "2017-06-04,molar\n",
    "2017-06-13,bicuspid\n",
    "2017-06-14,canine\n",
    "2017-07-10,incisor\n",
    "2017-07-16,bicuspid\n",
    "2017-07-23,bicuspid\n",
    "2017-08-13,bicuspid\n",
    "2017-08-13,incisor\n",
    "2017-08-13,wisdom\n",
    "2017-09-07,molar</span>\n",
    "</code>\n",
    "</p>"
   ]
  },
  {
   "cell_type": "markdown",
   "metadata": {},
   "source": [
    "----"
   ]
  },
  {
   "cell_type": "markdown",
   "metadata": {},
   "source": [
    "### How can I select columns from a file?\n",
    "\n",
    "`head` and `tail` let you select rows from a text file. If you want to select columns, you can use the command `cut`. It has several options (use `man cut` to explore them), but the most common is something like:\n",
    "\n",
    "```shell\n",
    "cut -f 2-5,8 -d , values.csv\n",
    "```\n",
    "\n",
    "which means \"select columns 2 through 5 and columns 8, using comma as the separator\". `cut` uses `-f` (meaning \"fields\") to specify columns and `-d` (meaning \"delimiter\") to specify the separator. You need to specify the latter because some files may use spaces, tabs, or colons to separate columns.\n",
    "\n",
    "----\n",
    "\n",
    "What command will select the first column (containing dates) from the file `spring.csv`?\n",
    "\n",
    "#### Instructions\n",
    "\n",
    "- `cut -d , -f 1 seasonal/spring.csv`\n",
    "- `cut -d, -f1 seasonal/spring.csv`\n",
    "- **Either of the above**.\n",
    "- Neither of the above, because `-f` must come before `-d`."
   ]
  },
  {
   "cell_type": "markdown",
   "metadata": {},
   "source": [
    "<p style=\"background:black\">\n",
    "<code style=\"background:black;color:white\"><span style=\"font-family:Consolas\">$ cut -d , -f 1 seasonal/spring.csv\n",
    "Date\n",
    "2017-01-25\n",
    "2017-02-19\n",
    "2017-02-24\n",
    "2017-02-28\n",
    "2017-03-04\n",
    "2017-03-12\n",
    "2017-03-14\n",
    "2017-03-21\n",
    "2017-04-29\n",
    "2017-05-08\n",
    "2017-05-20\n",
    "2017-05-21\n",
    "2017-05-25\n",
    "2017-06-04\n",
    "2017-06-13\n",
    "2017-06-14\n",
    "2017-07-10\n",
    "2017-07-16\n",
    "2017-07-23\n",
    "2017-08-13\n",
    "2017-08-13\n",
    "2017-08-13\n",
    "2017-09-07</span>\n",
    "</code>\n",
    "</p>"
   ]
  },
  {
   "cell_type": "markdown",
   "metadata": {},
   "source": [
    "----"
   ]
  },
  {
   "cell_type": "markdown",
   "metadata": {},
   "source": [
    "### What can't cut do?\n",
    "\n",
    "`cut` is a simple-minded command. In particular, it doesn't understand quoted strings. If, for example, your file is:\n",
    "\n",
    "```\n",
    "Name,Age\n",
    "\"Johel,Ranjit\",28\n",
    "\"Sharma,Rupinder\",26\n",
    "```\n",
    "\n",
    "then:\n",
    "\n",
    "```shell\n",
    "cut -f 2 -d , everyone.csv\n",
    "```\n",
    "\n",
    "will produce:\n",
    "\n",
    "```\n",
    "Age\n",
    "Ranjit\"\n",
    "Rupinder\"\n",
    "```\n",
    "\n",
    "rather than everyone's age, because it will think the comma between last and first names is a column separator.\n",
    "\n",
    "----\n",
    "\n",
    "What is the output of `cut -d : -f 2-4` on the line:\n",
    "\n",
    "`first:second:third:`\n",
    "\n",
    "(Note the trailing colon.)\n",
    "\n",
    "#### Possible Answers\n",
    "\n",
    "- `second`\n",
    "- `second:third`\n",
    "- **`second:third:`**\n",
    "- None of the above, because there aren't four fields."
   ]
  },
  {
   "cell_type": "markdown",
   "metadata": {},
   "source": [
    "----"
   ]
  },
  {
   "cell_type": "markdown",
   "metadata": {},
   "source": [
    "### How can I repeat commands?\n",
    "\n",
    "One of the biggest advantages of using the shell is that it makes it easy for you to do things over again. If you run some commands, you can then press the up-arrow key to cycle back through them. You can also use the left and right arrow keys and the delete key to edit them. Pressing return will then run the modified command.\n",
    "\n",
    "Even better, `history` will print a list of commands you have run recently. Each one is preceded by a serial number to make it easy to re-run particular commands: just type `!55` to re-run the 55th command in your history (if you have that many). You can also re-run a command by typing an exclamation mark followed by the command's name, such as `!head` or `!cut`, which will re-run the most recent use of that command.\n",
    "\n",
    "#### Instructions\n",
    "\n",
    "1. Run `head summer.csv` in your home directory (which should fail).\n",
    "2. Change directory to `seasonal`.\n",
    "3. Re-run the `head` command with `!head`.\n",
    "4. Use `history` to look at what you have done.\n",
    "5. Re-run `head` again using `!` followed by a command number."
   ]
  },
  {
   "cell_type": "markdown",
   "metadata": {},
   "source": [
    "<p style=\"background:black\">\n",
    "<code style=\"background:black;color:white\"><span style=\"font-family:Consolas\">$ head summer.csv\n",
    "head: cannot open 'summer.csv' for reading: No such file or directory\n",
    "$ cd seasonal/\n",
    "$ !head\n",
    "head summer.csv\n",
    "Date,Tooth\n",
    "2017-01-11,canine\n",
    "2017-01-18,wisdom\n",
    "2017-01-21,bicuspid\n",
    "2017-02-02,molar\n",
    "2017-02-27,wisdom\n",
    "2017-02-27,wisdom\n",
    "2017-03-07,bicuspid\n",
    "2017-03-15,wisdom\n",
    "2017-03-20,canine\n",
    "$ history\n",
    "    1  head summer.csv\n",
    "    2  cd seasonal/\n",
    "    3  head summer.csv\n",
    "    4  history\n",
    "$ !3\n",
    "head summer.csv\n",
    "Date,Tooth\n",
    "2017-01-11,canine\n",
    "2017-01-18,wisdom\n",
    "2017-01-21,bicuspid\n",
    "2017-02-02,molar\n",
    "2017-02-27,wisdom\n",
    "2017-02-27,wisdom\n",
    "2017-03-07,bicuspid\n",
    "2017-03-15,wisdom\n",
    "2017-03-20,canine</span>\n",
    "</code>\n",
    "</p>"
   ]
  },
  {
   "cell_type": "markdown",
   "metadata": {},
   "source": [
    "----"
   ]
  },
  {
   "cell_type": "markdown",
   "metadata": {},
   "source": [
    "### How can I select lines containing specific values?\n",
    "\n",
    "`head` and `tail` select rows, `cut` selects columns, and `grep` selects lines according to what they contain. In its simplest form, `grep` takes a piece of text followed by one or more filenames and prints all of the lines in those files that contain that text. For example, `grep bicuspid seasonal/winter.csv` prints lines from `winter.csv` that contain \"bicuspid\".\n",
    "\n",
    "`grep` can search for patterns as well; we will explore those in the next course. What's more important right now is some of `grep`'s more common flags:\n",
    "\n",
    "- `-c`: print a count of matching lines rather than the lines themselves\n",
    "- `-h`: do not print the names of files when searching multiple files\n",
    "- `-i`: ignore case (e.g., treat \"Regression\" and \"regression\" as matches)\n",
    "- `-l`: print the names of files that contain matches, not the matches\n",
    "- `-n`: print line numbers for matching lines\n",
    "- `-v`: invert the match, i.e., only show lines that don't match\n",
    "\n",
    "#### Instructions\n",
    "\n",
    "1. Print the contents of all of the lines containing the word `molar` in `seasonal/autumn.csv` by running a single command while in your home directory. Don't use any flags.\n",
    "2. Invert the match to find all of the lines that *don't* contain the word `molar` in `seasonal/spring.csv`, and show their line numbers. Remember, it's considered good style to put all of the flags *before* other values like filenames or the search term \"molar\".\n",
    "3. Count how many lines contain the word `incisor` in `autumn.csv` and `winter.csv` combined. (Again, run a single command from your home directory.)"
   ]
  },
  {
   "cell_type": "markdown",
   "metadata": {},
   "source": [
    "<p style=\"background:black\">\n",
    "<code style=\"background:black;color:white\"><span style=\"font-family:Consolas\">$ grep molar seasonal/autumn.csv\n",
    "2017-02-01,molar\n",
    "2017-05-25,molar\n",
    "$ grep -n -v  molar seasonal/spring.csv\n",
    "1:Date,Tooth\n",
    "2:2017-01-25,wisdom\n",
    "3:2017-02-19,canine\n",
    "4:2017-02-24,canine\n",
    "5:2017-02-28,wisdom\n",
    "6:2017-03-04,incisor\n",
    "7:2017-03-12,wisdom\n",
    "8:2017-03-14,incisor\n",
    "10:2017-04-29,wisdom\n",
    "11:2017-05-08,canine\n",
    "12:2017-05-20,canine\n",
    "13:2017-05-21,canine\n",
    "14:2017-05-25,canine\n",
    "16:2017-06-13,bicuspid\n",
    "17:2017-06-14,canine\n",
    "18:2017-07-10,incisor\n",
    "19:2017-07-16,bicuspid\n",
    "20:2017-07-23,bicuspid\n",
    "21:2017-08-13,bicuspid\n",
    "22:2017-08-13,incisor\n",
    "23:2017-08-13,wisdom\n",
    "$ grep -c incisor  seasonal/autumn.csv seasonal/winter.csv\n",
    "<span style=\"color:purple\">seasonal/autumn.csv</span>:3\n",
    "<span style=\"color:purple\">seasonal/winter.csv</span>:6</span>\n",
    "</code>\n",
    "</p>"
   ]
  },
  {
   "cell_type": "markdown",
   "metadata": {},
   "source": [
    "----"
   ]
  },
  {
   "cell_type": "markdown",
   "metadata": {},
   "source": [
    "### Why isn't it always safe to treat data as text?\n",
    "\n",
    "The `SEE ALSO` section of the manual page for `cut` refers to a command called `paste` that can be used to combine data files instead of cutting them up.\n",
    "\n",
    "----\n",
    "\n",
    "Read the manual page for `paste`, and then run `paste` to combine the autumn and winter data files in a single table using a comma as a separator. What's wrong with the output from a data analysis point of view?\n",
    "\n",
    "#### Possible Answers\n",
    "\n",
    "- The column headers are repeated.\n",
    "- **The last few rows have the wrong number of columns**.\n",
    "- Some of the data from winter.csv is missing."
   ]
  },
  {
   "cell_type": "markdown",
   "metadata": {},
   "source": [
    "<p style=\"background:black\">\n",
    "<code style=\"background:black;color:white\"><span style=\"font-family:Consolas\">$ paste -d , seasonal/autumn.csv seasonal/winter.csv\n",
    "Date,Tooth,Date,Tooth\n",
    "2017-01-05,canine,2017-01-03,bicuspid\n",
    "2017-01-17,wisdom,2017-01-05,incisor\n",
    "2017-01-18,canine,2017-01-21,wisdom\n",
    "2017-02-01,molar,2017-02-05,molar\n",
    "2017-02-22,bicuspid,2017-02-17,incisor\n",
    "2017-03-10,canine,2017-02-25,bicuspid\n",
    "2017-03-13,canine,2017-03-12,incisor\n",
    "2017-04-30,incisor,2017-03-25,molar\n",
    "2017-05-02,canine,2017-03-26,incisor\n",
    "2017-05-10,canine,2017-04-04,canine\n",
    "2017-05-19,bicuspid,2017-04-18,canine\n",
    "2017-05-25,molar,2017-04-26,canine\n",
    "2017-06-22,wisdom,2017-04-26,molar\n",
    "2017-06-25,canine,2017-04-26,wisdom\n",
    "2017-07-10,incisor,2017-04-27,canine\n",
    "2017-07-10,wisdom,2017-05-08,molar\n",
    "2017-07-20,incisor,2017-05-13,bicuspid\n",
    "2017-07-21,bicuspid,2017-05-14,wisdom\n",
    "2017-08-09,canine,2017-06-17,canine\n",
    "2017-08-16,canine,2017-07-01,incisor\n",
    ",2017-07-17,canine\n",
    ",2017-08-10,incisor\n",
    ",2017-08-11,bicuspid\n",
    ",2017-08-11,wisdom\n",
    ",2017-08-13,canine</span>\n",
    "</code>\n",
    "</p>"
   ]
  },
  {
   "cell_type": "markdown",
   "metadata": {},
   "source": [
    "Correct: joining the lines with columns creates only one empty column at the start, not two."
   ]
  },
  {
   "cell_type": "markdown",
   "metadata": {},
   "source": [
    "----"
   ]
  },
  {
   "cell_type": "markdown",
   "metadata": {},
   "source": [
    "# Chapter 3: Combining tools"
   ]
  },
  {
   "cell_type": "markdown",
   "metadata": {},
   "source": [
    "### How can I store a command's output in a file?\n",
    "\n",
    "All of the tools you have seen so far let you name input files. Most don't have an option for naming an output file because they don't need one. Instead, you can use **redirection** to save any command's output anywhere you want. If you run this command:\n",
    "\n",
    "```shell\n",
    "head -n 5 seasonal/summer.csv\n",
    "```\n",
    "\n",
    "it prints the first 5 lines of the summer data on the screen. If you run this command instead:\n",
    "\n",
    "```shell\n",
    "head -n 5 seasonal/summer.csv > top.csv\n",
    "```\n",
    "\n",
    "nothing appears on the screen. Instead, `head`'s output is put in a new file called `top.csv`. You can take a look at that file's contents using `cat`:\n",
    "\n",
    "```shell\n",
    "cat top.csv\n",
    "```\n",
    "\n",
    "The greater-than sign `>` tells the shell to redirect `head`'s output to a file. It isn't part of the `head` command; instead, it works with every shell command that produces output.\n",
    "\n",
    "#### Instructions\n",
    "\n",
    "- Combine `tail` with redirection to save the last 5 lines of `seasonal/winter.csv` in a file called `last.csv`."
   ]
  },
  {
   "cell_type": "markdown",
   "metadata": {},
   "source": [
    "<p style=\"background:black\">\n",
    "<code style=\"background:black;color:white\"><span style=\"font-family:Consolas\">$ tail -n 5 seasonal/winter.csv > last.csv</span>\n",
    "</code>\n",
    "</p>"
   ]
  },
  {
   "cell_type": "markdown",
   "metadata": {},
   "source": [
    "----"
   ]
  },
  {
   "cell_type": "markdown",
   "metadata": {},
   "source": [
    "### How can I use a command's output as an input?\n",
    "\n",
    "Suppose you want to get lines from the middle of a file. More specifically, suppose you want to get lines 3-5 from one of our data files. You can start by using `head` to get the first 5 lines and redirect that to a file, and then use `tail` to select the last 3:\n",
    "\n",
    "```shell\n",
    "head -n 5 seasonal/winter.csv > top.csv\n",
    "tail -n 3 top.csv\n",
    "```\n",
    "\n",
    "A quick check confirms that this is lines 3-5 of our original file, because it is the last 3 lines of the first 5.\n",
    "\n",
    "#### Instructions\n",
    "\n",
    "1. Select the last two lines from `seasonal/winter.csv` and save them in a file called `bottom.csv`.\n",
    "2. Select the first line from `bottom.csv` in order to get the second-to-last line of the original file."
   ]
  },
  {
   "cell_type": "markdown",
   "metadata": {},
   "source": [
    "<p style=\"background:black\">\n",
    "<code style=\"background:black;color:white\"><span style=\"font-family:Consolas\">$ tail -n 2 seasonal/winter.csv > bottom.csv\n",
    "$ head -n 1 bottom.csv\n",
    "2017-08-11,wisdom</span>\n",
    "</code>\n",
    "</p>"
   ]
  },
  {
   "cell_type": "markdown",
   "metadata": {},
   "source": [
    "----"
   ]
  },
  {
   "cell_type": "markdown",
   "metadata": {},
   "source": [
    "### What's a better way to combine commands?\n",
    "\n",
    "Using redirection to combine commands has two drawbacks:\n",
    "\n",
    "1. It leaves a lot of intermediate files lying around (like `top.csv`).\n",
    "2. The commands to produce your final result are scattered across several lines of history.\n",
    "\n",
    "The shell provides another tool that solves both of these problems at once called a **pipe**. Once again, start by running head:\n",
    "\n",
    "```shell\n",
    "head -n 5 seasonal/summer.csv\n",
    "```\n",
    "\n",
    "Instead of sending `head`'s output to a file, add a vertical bar and the `tail` command *without* a filename:\n",
    "\n",
    "```shell\n",
    "head -n 5 seasonal/summer.csv | tail -n 3\n",
    "```\n",
    "\n",
    "The pipe symbol tells the shell to use the output of the command on the left as the input to the command on the right.\n",
    "\n",
    "#### Instructions\n",
    "\n",
    "- Use `cut` to select all of the tooth names from column `2` of the comma delimited file `seasonal/summer.csv`, then pipe the result to `grep`, with an inverted match, to exclude the header line containing the word \"Tooth\". *`cut` and `grep` were covered in detail in Chapter 2, exercises 8 and 11 respectively*."
   ]
  },
  {
   "cell_type": "markdown",
   "metadata": {},
   "source": [
    "<p style=\"background:black\">\n",
    "<code style=\"background:black;color:white\"><span style=\"font-family:Consolas\">$ cut -f 2 -d , seasonal/summer.csv | grep -v Tooth\n",
    "canine\n",
    "wisdom\n",
    "bicuspid\n",
    "molar\n",
    "wisdom\n",
    "wisdom\n",
    "bicuspid\n",
    "wisdom\n",
    "canine\n",
    "molar\n",
    "bicuspid\n",
    "wisdom\n",
    "canine\n",
    "canine\n",
    "incisor\n",
    "incisor\n",
    "canine\n",
    "incisor\n",
    "incisor\n",
    "incisor\n",
    "canine\n",
    "canine\n",
    "bicuspid\n",
    "canine</span>\n",
    "</code>\n",
    "</p>"
   ]
  },
  {
   "cell_type": "markdown",
   "metadata": {},
   "source": [
    "----"
   ]
  },
  {
   "cell_type": "markdown",
   "metadata": {},
   "source": [
    "### How can I combine many commands?\n",
    "\n",
    "You can chain any number of commands together. For example, this command:\n",
    "\n",
    "```shell\n",
    "cut -d , -f 1 seasonal/spring.csv | grep -v Date | head -n 10\n",
    "```\n",
    "\n",
    "will:\n",
    "\n",
    "1. select the first column from the spring data;\n",
    "2. remove the header line containing the word \"Date\"; and\n",
    "3. select the first 10 lines of actual data.\n",
    "\n",
    "#### Instructions\n",
    "\n",
    "In the previous exercise, you used the following command to select all the tooth names from column 2 of `seasonal/summer.csv`:\n",
    "\n",
    "```shell\n",
    "cut -d , -f 2 seasonal/summer.csv | grep -v Tooth\n",
    "```\n",
    "\n",
    "Extend this pipeline with a `head` command to only select the very first tooth name."
   ]
  },
  {
   "cell_type": "markdown",
   "metadata": {},
   "source": [
    "<p style=\"background:black\">\n",
    "<code style=\"background:black;color:white\"><span style=\"font-family:Consolas\">$ cut -f 2 -d , seasonal/summer.csv | grep -v Tooth | head -n 1\n",
    "canine</span>\n",
    "</code>\n",
    "</p>"
   ]
  },
  {
   "cell_type": "markdown",
   "metadata": {},
   "source": [
    "----"
   ]
  },
  {
   "cell_type": "markdown",
   "metadata": {},
   "source": [
    "### How can I count the records in a file?\n",
    "\n",
    "The command `wc` (short for \"word count\") prints the number of characters, words, and lines in a file. You can make it print only one of these using `-c`, `-w`, or `-l` respectively.\n",
    "\n",
    "#### Instructions\n",
    "\n",
    "Count how many records in `seasonal/spring.csv` have dates in July 2017 (`2017-07`).\n",
    "\n",
    "- To do this, use `grep` with a partial date to select the lines and pipe this result into `wc` with an appropriate flag to count the lines."
   ]
  },
  {
   "cell_type": "markdown",
   "metadata": {},
   "source": [
    "<p style=\"background:black\">\n",
    "<code style=\"background:black;color:white\"><span style=\"font-family:Consolas\">$ grep 2017-07 seasonal/spring.csv | wc -l\n",
    "3</span>\n",
    "</code>\n",
    "</p>"
   ]
  },
  {
   "cell_type": "markdown",
   "metadata": {},
   "source": [
    "----"
   ]
  },
  {
   "cell_type": "markdown",
   "metadata": {},
   "source": [
    "### How can I specify many files at once?\n",
    "\n",
    "Most shell commands will work on multiple files if you give them multiple filenames. For example, you can get the first column from all of the seasonal data files at once like this:\n",
    "\n",
    "```shell\n",
    "cut -d , -f 1 seasonal/winter.csv seasonal/spring.csv seasonal/summer.csv seasonal/autumn.csv\n",
    "```\n",
    "\n",
    "But typing the names of many files over and over is a bad idea: it wastes time, and sooner or later you will either leave a file out or repeat a file's name. To make your life better, the shell allows you to use **wildcards** to specify a list of files with a single expression. The most common wildcard is `*`, which means \"match zero or more characters\". Using it, we can shorten the `cut` command above to this:\n",
    "\n",
    "```shell\n",
    "cut -d , -f 1 seasonal/*\n",
    "```\n",
    "\n",
    "or:\n",
    "\n",
    "```shell\n",
    "cut -d , -f 1 seasonal/*.csv\n",
    "```\n",
    "\n",
    "#### Instructions\n",
    "\n",
    "Write a single command using `head` to get the first three lines from both `seasonal/spring.csv` and `seasonal/summer.csv`, a total of six lines of data, but *not* from the autumn or winter data files. Use a wildcard instead of spelling out the files' names in full."
   ]
  },
  {
   "cell_type": "markdown",
   "metadata": {},
   "source": [
    "<p style=\"background:black\">\n",
    "<code style=\"background:black;color:white\"><span style=\"font-family:Consolas\">$ head -n 3 seasonal/s*\n",
    "==> seasonal/spring.csv <==\n",
    "Date,Tooth\n",
    "2017-01-25,wisdom\n",
    "2017-02-19,canine\n",
    "==> seasonal/summer.csv <==\n",
    "Date,Tooth\n",
    "2017-01-11,canine\n",
    "2017-01-18,wisdom</span>\n",
    "</code>\n",
    "</p>"
   ]
  },
  {
   "cell_type": "markdown",
   "metadata": {},
   "source": [
    "----"
   ]
  },
  {
   "cell_type": "markdown",
   "metadata": {},
   "source": [
    "### What other wildcards can I use?\n",
    "\n",
    "The shell has other wildcards as well, though they are less commonly used:\n",
    "\n",
    "- `?` matches a single character, so `201?.txt` will match `2017.txt` or `2018.txt`, but not `2017-01.txt`.\n",
    "- `[...]` matches any one of the characters inside the square brackets, so `201[78].txt` matches `2017.txt` or `2018.txt`, but not `2016.txt`.\n",
    "- `{...}` matches any of the comma-separated patterns inside the curly brackets, so `{*.txt, *.csv}` matches any file whose name ends with `.txt` or `.csv`, but not files whose names end with `.pdf`.\n",
    "\n",
    "----\n",
    "\n",
    "Which expression would match `singh.pdf` and `johel.txt` but not `sandhu.pdf` or `sandhu.txt`?\n",
    "\n",
    "#### Answer the question\n",
    "\n",
    "- `[sj]*.{.pdf, .txt}`\n",
    "- `{s*.pdf, j*.txt}`\n",
    "- `[singh,johel]{*.pdf, *.txt}`\n",
    "- **`{singh.pdf, j*.txt}`**"
   ]
  },
  {
   "cell_type": "markdown",
   "metadata": {},
   "source": [
    "----"
   ]
  },
  {
   "cell_type": "markdown",
   "metadata": {},
   "source": [
    "### How can I sort lines of text?\n",
    "\n",
    "As its name suggests, `sort` puts data in order. By default it does this in ascending alphabetical order, but the flags `-n` and `-r` can be used to sort numerically and reverse the order of its output, while `-b` tells it to ignore leading blanks and `-f` tells it to **f**old case (i.e., be case-insensitive). Pipelines often use `grep` to get rid of unwanted records and then `sort` to put the remaining records in order.\n",
    "\n",
    "#### Instructions\n",
    "\n",
    "Remember the combination of `cut` and `grep` to select all the tooth names from column 2 of `seasonal/summer.csv`?\n",
    "\n",
    "```shell\n",
    "cut -d , -f 2 seasonal/summer.csv | grep -v Tooth\n",
    "```\n",
    "\n",
    "Starting from this recipe, sort the names of the teeth in `seasonal/winter.csv` (not `summer.csv`) in descending alphabetical order. To do this, extend the pipeline with a `sort` step."
   ]
  },
  {
   "cell_type": "markdown",
   "metadata": {},
   "source": [
    "<p style=\"background:black\">\n",
    "<code style=\"background:black;color:white\"><span style=\"font-family:Consolas\">$ cut -d , -f 2 seasonal/winter.csv | grep -v Tooth | sort -r\n",
    "wisdom\n",
    "wisdom\n",
    "wisdom\n",
    "wisdom\n",
    "molar\n",
    "molar\n",
    "molar\n",
    "molar\n",
    "incisor\n",
    "incisor\n",
    "incisor\n",
    "incisor\n",
    "incisor\n",
    "incisor\n",
    "canine\n",
    "canine\n",
    "canine\n",
    "canine\n",
    "canine\n",
    "canine\n",
    "canine\n",
    "bicuspid\n",
    "bicuspid\n",
    "bicuspid\n",
    "bicuspid</span>\n",
    "</code>\n",
    "</p>"
   ]
  },
  {
   "cell_type": "markdown",
   "metadata": {},
   "source": [
    "**NOTE**: Sorted! `sort` has many uses. For example, piping `sort -n` to `head` shows you the largest values."
   ]
  },
  {
   "cell_type": "markdown",
   "metadata": {},
   "source": [
    "----"
   ]
  },
  {
   "cell_type": "markdown",
   "metadata": {},
   "source": [
    "### How can I remove duplicate lines?\n",
    "\n",
    "Another command that is often used with `sort` is `uniq`, whose job is to remove duplicated lines. More specifically, it removes *adjacent* duplicated lines. If a file contains:\n",
    "\n",
    "```shell\n",
    "2017-07-03\n",
    "2017-07-03\n",
    "2017-08-03\n",
    "2017-08-03\n",
    "```\n",
    "\n",
    "then `uniq` will produce:\n",
    "\n",
    "```shell\n",
    "2017-07-03\n",
    "2017-08-03\n",
    "```\n",
    "\n",
    "but **if** it contains:\n",
    "\n",
    "```shell\n",
    "2017-07-03\n",
    "2017-08-03\n",
    "2017-07-03\n",
    "2017-08-03\n",
    "```\n",
    "\n",
    "then `uniq` will print all four lines. The reason is that `uniq` is built to work with very large files. In order to remove non-adjacent lines from a file, it would have to keep the whole file in memory (or at least, all the unique lines seen so far). By only removing adjacent duplicates, it only has to keep the most recent unique line in memory.\n",
    "\n",
    "#### Instructions\n",
    "\n",
    "Write a pipeline to:\n",
    "\n",
    "- get the second column from `seasonal/winter.csv`,\n",
    "- remove the word \"Tooth\" from the output so that only tooth names are displayed,\n",
    "- sort the output so that all occurrences of a particular tooth name are adjacent; and\n",
    "- display each tooth name once along with a count of how often it occurs.\n",
    "- The start of your pipeline is the same as the previous exercise:\n",
    "\n",
    "```shell\n",
    "cut -d , -f 2 seasonal/winter.csv | grep -v Tooth\n",
    "```\n",
    "\n",
    "Extend it with a `sort` command, and use `uniq -c` to display unique lines with a count of how often each occurs rather than using `uniq` and `wc`."
   ]
  },
  {
   "cell_type": "markdown",
   "metadata": {},
   "source": [
    "<p style=\"background:black\">\n",
    "<code style=\"background:black;color:white\"><span style=\"font-family:Consolas\">$ cut -d , -f 2 seasonal/winter.csv | grep -v Tooth | sort | uniq -c\n",
    "      4 bicuspid\n",
    "      7 canine\n",
    "      6 incisor\n",
    "      4 molar\n",
    "      4 wisdom</span>\n",
    "</code>\n",
    "</p>"
   ]
  },
  {
   "cell_type": "markdown",
   "metadata": {},
   "source": [
    "----"
   ]
  },
  {
   "cell_type": "markdown",
   "metadata": {},
   "source": [
    "### How can I save the output of a pipe?\n",
    "\n",
    "The shell lets us redirect the output of a sequence of piped commands:\n",
    "\n",
    "```shell\n",
    "cut -d , -f 2 seasonal/*.csv | grep -v Tooth > teeth-only.txt\n",
    "```\n",
    "\n",
    "However, `>` must appear at the end of the pipeline: if we try to use it in the middle, like this:\n",
    "\n",
    "```shell\n",
    "cut -d , -f 2 seasonal/*.csv > teeth-only.txt | grep -v Tooth\n",
    "```\n",
    "\n",
    "then all of the output from `cut` is written to `teeth-only.txt`, so there is nothing left for `grep` and it waits forever for some input.\n",
    "\n",
    "----\n",
    "\n",
    "What happens if we put redirection at the front of a pipeline as in:\n",
    "\n",
    "```shell\n",
    "> result.txt head -n 3 seasonal/winter.csv\n",
    "```\n",
    "\n",
    "#### Instructions\n",
    "\n",
    "- **The command's output is redirected to the file as usual**.\n",
    "- The shell reports it as an error.\n",
    "- The shell waits for input forever."
   ]
  },
  {
   "cell_type": "markdown",
   "metadata": {},
   "source": [
    "<p style=\"background:black\">\n",
    "<code style=\"background:black;color:white\"><span style=\"font-family:Consolas\">$ > result.txt head -n 3 seasonal/winter.csv\n",
    "$ ls\n",
    "<span style=\"color:#10FDEB\">backup  bin</span>  course.txt  <span style=\"color:#10FDEB\">people</span>  result.txt  <span style=\"color:#10FDEB\">seasonal</span></span>\n",
    "</code>\n",
    "</p>"
   ]
  },
  {
   "cell_type": "markdown",
   "metadata": {},
   "source": [
    "----"
   ]
  },
  {
   "cell_type": "markdown",
   "metadata": {},
   "source": [
    "### How can I stop a running program?\n",
    "\n",
    "The commands and scripts that you have run so far have all executed quickly, but some tasks will take minutes, hours, or even days to complete. You may also mistakenly put redirection in the middle of a pipeline, causing it to hang up. If you decide that you don't want a program to keep running, you can type `Ctrl` + `C` to end it. This is often written `^C` in Unix documentation; note that the 'c' can be lower-case.\n",
    "\n",
    "#### Instructions\n",
    "\n",
    "Run the command:\n",
    "\n",
    "```shell\n",
    "head\n",
    "```\n",
    "\n",
    "with no arguments (so that it waits for input that will never come) and then stop it by typing `Ctrl` + `C`."
   ]
  },
  {
   "cell_type": "markdown",
   "metadata": {},
   "source": [
    "<p style=\"background:black\">\n",
    "<code style=\"background:black;color:white\"><span style=\"font-family:Consolas\">$ head\n",
    "^C</span>\n",
    "</code>\n",
    "</p>"
   ]
  },
  {
   "cell_type": "markdown",
   "metadata": {},
   "source": [
    "----"
   ]
  },
  {
   "cell_type": "markdown",
   "metadata": {},
   "source": [
    "### Wrapping up\n",
    "\n",
    "To wrap up, you will build a pipeline to find out how many records are in the shortest of the seasonal data files.\n",
    "\n",
    "#### Instructions\n",
    "\n",
    "1. Use `wc` with appropriate parameters to list the number of lines in all of the seasonal data files. (Use a wildcard for the filenames instead of typing them all in by hand.)\n",
    "2. Add another command to the previous one using a pipe to remove the line containing the word \"total\".\n",
    "3. Add two more stages to the pipeline that use `sort -n` and `head -n 1` to find the file containing the fewest lines."
   ]
  },
  {
   "cell_type": "markdown",
   "metadata": {},
   "source": [
    "<p style=\"background:black\">\n",
    "<code style=\"background:black;color:white\"><span style=\"font-family:Consolas\">$ wc -l seasonal/*\n",
    "  21 seasonal/autumn.csv\n",
    "  24 seasonal/spring.csv\n",
    "  25 seasonal/summer.csv\n",
    "  26 seasonal/winter.csv\n",
    "  96 total\n",
    "$ wc -l seasonal/* | head -n 4\n",
    "  21 seasonal/autumn.csv\n",
    "  24 seasonal/spring.csv\n",
    "  25 seasonal/summer.csv\n",
    "  26 seasonal/winter.csv\n",
    "$ wc -l seasonal/* | head -n 4 | sort -n | head -n 1\n",
    "  21 seasonal/autumn.csv</span>\n",
    "</code>\n",
    "</p>"
   ]
  },
  {
   "cell_type": "markdown",
   "metadata": {},
   "source": [
    "----"
   ]
  },
  {
   "cell_type": "markdown",
   "metadata": {},
   "source": [
    "# Chapter 4: Batch processing"
   ]
  },
  {
   "cell_type": "markdown",
   "metadata": {},
   "source": [
    "### How does the shell store information? <br>\n",
    "\n",
    "<div class><p>Like other programs, the shell stores information in variables.\n",
    "Some of these,\n",
    "called <strong>environment variables</strong>,\n",
    "are available all the time.\n",
    "Environment variables&apos; names are conventionally written in upper case,\n",
    "and a few of the more commonly-used ones are shown below.</p>\n",
    "<table>\n",
    "<thead>\n",
    "<tr>\n",
    "<th>Variable</th>\n",
    "<th>Purpose</th>\n",
    "<th>Value</th>\n",
    "</tr>\n",
    "</thead>\n",
    "<tbody>\n",
    "<tr>\n",
    "<td><code>HOME</code></td>\n",
    "<td>User&apos;s home directory</td>\n",
    "<td><code>/home/repl</code></td>\n",
    "</tr>\n",
    "<tr>\n",
    "<td><code>PWD</code></td>\n",
    "<td>Present working directory</td>\n",
    "<td>Same as <code>pwd</code> command</td>\n",
    "</tr>\n",
    "<tr>\n",
    "<td><code>SHELL</code></td>\n",
    "<td>Which shell program is being used</td>\n",
    "<td><code>/bin/bash</code></td>\n",
    "</tr>\n",
    "<tr>\n",
    "<td><code>USER</code></td>\n",
    "<td>User&apos;s ID</td>\n",
    "<td><code>repl</code></td>\n",
    "</tr>\n",
    "</tbody>\n",
    "</table>\n",
    "<p>To get a complete list (which is quite long),\n",
    "you can type <code>set</code> in the shell.</p>\n",
    "<hr>\n",
    "<p>Use <code>set</code> and <code>grep</code> with a pipe to display the value of <code>HISTFILESIZE</code>,\n",
    "which determines how many old commands are stored in your command history.\n",
    "What is its value?"
   ]
  },
  {
   "cell_type": "markdown",
   "metadata": {},
   "source": [
    "#### Possible Answers\n",
    "\n",
    "- 10\n",
    "- 500\n",
    "- **2000**\n",
    "- The variable is not there."
   ]
  },
  {
   "cell_type": "markdown",
   "metadata": {},
   "source": [
    "<p style=\"background:black\">\n",
    "<code style=\"background:black;color:white\"><span style=\"font-family:Consolas\">$ set | grep HISTFILESIZE\n",
    "<span style=\"color:red\">HISTFILESIZE</span>=2000</span>\n",
    "</code>\n",
    "</p>"
   ]
  },
  {
   "cell_type": "markdown",
   "metadata": {},
   "source": [
    "----"
   ]
  },
  {
   "cell_type": "markdown",
   "metadata": {},
   "source": [
    "### How can I print a variable's value?\n",
    "\n",
    "A simpler way to find a variable's value is to use a command called `echo`, which prints its arguments. Typing\n",
    "\n",
    "```shell\n",
    "echo hello DataCamp!\n",
    "```\n",
    "\n",
    "prints\n",
    "\n",
    "```shell\n",
    "hello DataCamp!\n",
    "```\n",
    "\n",
    "If you try to use it to print a variable's value like this:\n",
    "\n",
    "```shell\n",
    "echo USER\n",
    "```\n",
    "\n",
    "it will print the variable's name, `USER`.\n",
    "\n",
    "To get the variable's value, you must put a dollar sign `$` in front of it. Typing\n",
    "\n",
    "```shell\n",
    "echo $USER\n",
    "```\n",
    "\n",
    "prints\n",
    "\n",
    "```\n",
    "repl\n",
    "```\n",
    "\n",
    "This is true everywhere: to get the value of a variable called `X`, you must write `$X`. (This is so that the shell can tell whether you mean \"a file named X\" or \"the value of a variable named X\".)\n",
    "\n",
    "#### Instructions\n",
    "\n",
    "The variable `OSTYPE` holds the name of the kind of operating system you are using. Display its value using `echo`."
   ]
  },
  {
   "cell_type": "markdown",
   "metadata": {},
   "source": [
    "<p style=\"background:black\">\n",
    "<code style=\"background:black;color:white\"><span style=\"font-family:Consolas\">$ echo $OSTYPE\n",
    "linux-gnu</span>\n",
    "</code>\n",
    "</p>"
   ]
  },
  {
   "cell_type": "markdown",
   "metadata": {},
   "source": [
    "----"
   ]
  },
  {
   "cell_type": "markdown",
   "metadata": {},
   "source": [
    "### How else does the shell store information?\n",
    "\n",
    "The other kind of variable is called a **shell variable**, which is like a local variable in a programming language.\n",
    "\n",
    "To create a shell variable, you simply assign a value to a name:\n",
    "\n",
    "```shell\n",
    "training=seasonal/summer.csv\n",
    "```\n",
    "\n",
    "*without* any spaces before or after the `=` sign. Once you have done this, you can check the variable's value with:\n",
    "\n",
    "```shell\n",
    "echo $training\n",
    "seasonal/summer.csv\n",
    "```\n",
    "\n",
    "#### Instructions\n",
    "\n",
    "1. Define a variable called `testing` with the value `seasonal/winter.csv`.\n",
    "2. Use `head -n 1 SOMETHING` to get the first line from `seasonal/winter.csv` using the value of the variable `testing` instead of the name of the file."
   ]
  },
  {
   "cell_type": "markdown",
   "metadata": {},
   "source": [
    "<p style=\"background:black\">\n",
    "<code style=\"background:black;color:white\"><span style=\"font-family:Consolas\">$ testing=seasonal/winter.csv\n",
    "$ head -n 1 $testing\n",
    "Date,Tooth</span>\n",
    "</code>\n",
    "</p>"
   ]
  },
  {
   "cell_type": "markdown",
   "metadata": {},
   "source": [
    "----"
   ]
  },
  {
   "cell_type": "markdown",
   "metadata": {},
   "source": [
    "### How can I repeat a command many times?\n",
    "\n",
    "Shell variables are also used in **loops**, which repeat commands many times. If we run this command:\n",
    "\n",
    "```shell\n",
    "for filetype in gif jpg png; do echo $filetype; done\n",
    "```\n",
    "\n",
    "it produces:\n",
    "\n",
    "```\n",
    "gif\n",
    "jpg\n",
    "png\n",
    "```\n",
    "\n",
    "Notice these things about the loop:\n",
    "\n",
    "1. The structure is `for` ...variable... `in` ...list... `; do` ...body... `; done`\n",
    "2. The list of things the loop is to process (in our case, the words `gif`, `jpg`, and `png`).\n",
    "3. The variable that keeps track of which thing the loop is currently processing (in our case, `filetype`).\n",
    "4. The body of the loop that does the processing (in our case, `echo $filetype` ).\n",
    "\n",
    "Notice that the body uses `$filetype` to get the variable's value instead of just `filetype`, just like it does with any other shell variable. Also notice where the semi-colons go: the first one comes between the list and the keyword `do`, and the second comes between the body and the keyword `done`.\n",
    "\n",
    "#### Instructions\n",
    "\n",
    "Modify the loop so that it prints:\n",
    "\n",
    "```\n",
    "docx\n",
    "odt\n",
    "pdf\n",
    "```\n",
    "\n",
    "Please use `filetype` as the name of the loop variable."
   ]
  },
  {
   "cell_type": "markdown",
   "metadata": {},
   "source": [
    "<p style=\"background:black\">\n",
    "<code style=\"background:black;color:white\"><span style=\"font-family:Consolas\">$ for filetype in docx odt pdf; do echo $filetype; done\n",
    "docx\n",
    "odt\n",
    "pdf</span>\n",
    "</code>\n",
    "</p>"
   ]
  },
  {
   "cell_type": "markdown",
   "metadata": {},
   "source": [
    "----"
   ]
  },
  {
   "cell_type": "markdown",
   "metadata": {},
   "source": [
    "### How can I repeat a command once for each file?\n",
    "\n",
    "You can always type in the names of the files you want to process when writing the loop, but it's usually better to use wildcards. Try running this loop in the console:\n",
    "\n",
    "```shell\n",
    "for filename in seasonal/*.csv; do echo $filename; done\n",
    "```\n",
    "\n",
    "It prints:\n",
    "\n",
    "```\n",
    "seasonal/autumn.csv\n",
    "seasonal/spring.csv\n",
    "seasonal/summer.csv\n",
    "seasonal/winter.csv\n",
    "```\n",
    "\n",
    "because the shell expands `seasonal/*.csv` to be a list of four filenames before it runs the loop.\n",
    "\n",
    "#### Instructions\n",
    "\n",
    "Modify the wildcard expression to `people/*` so that the loop prints the names of the files in the `people` directory regardless of what suffix they do or don't have. Please use `filename` as the name of your loop variable."
   ]
  },
  {
   "cell_type": "markdown",
   "metadata": {},
   "source": [
    "<p style=\"background:black\">\n",
    "<code style=\"background:black;color:white\"><span style=\"font-family:Consolas\">$ for filename in people/*; do echo $filename; done\n",
    "people/agarwal.txt</span>\n",
    "</code>\n",
    "</p>"
   ]
  },
  {
   "cell_type": "markdown",
   "metadata": {},
   "source": [
    "----"
   ]
  },
  {
   "cell_type": "markdown",
   "metadata": {},
   "source": [
    "### How can I record the names of a set of files?\n",
    "\n",
    "People often set a variable using a wildcard expression to record a list of filenames. For example, if you define `datasets` like this:\n",
    "\n",
    "```shell\n",
    "datasets=seasonal/*.csv\n",
    "```\n",
    "\n",
    "you can display the files' names later using:\n",
    "\n",
    "```shell\n",
    "for filename in $datasets; do echo $filename; done\n",
    "```\n",
    "\n",
    "This saves typing and makes errors less likely.\n",
    "\n",
    "----\n",
    "\n",
    "If you run these two commands in your home directory, how many lines of output will they print?\n",
    "\n",
    "```shell\n",
    "files=seasonal/*.csv\n",
    "for f in $files; do echo $f; done\n",
    "```\n",
    "\n",
    "#### Instructions\n",
    "\n",
    "- None: since `files` is defined on a separate line, it has no value in the second line.\n",
    "- One: the word \"files\".\n",
    "- **Four: the names of all four seasonal data files**."
   ]
  },
  {
   "cell_type": "markdown",
   "metadata": {},
   "source": [
    "<p style=\"background:black\">\n",
    "<code style=\"background:black;color:white\"><span style=\"font-family:Consolas\">$ files=seasonal/*.csv\n",
    "$ for f in $files; do echo $f; done\n",
    "seasonal/autumn.csv\n",
    "seasonal/spring.csv\n",
    "seasonal/summer.csv\n",
    "seasonal/winter.csv</span>\n",
    "</code>\n",
    "</p>"
   ]
  },
  {
   "cell_type": "markdown",
   "metadata": {},
   "source": [
    "----"
   ]
  },
  {
   "cell_type": "markdown",
   "metadata": {},
   "source": [
    "### A variable's name versus its value\n",
    "\n",
    "A common mistake is to forget to use `$` before the name of a variable. When you do this, the shell uses the name you have typed rather than the value of that variable.\n",
    "\n",
    "A more common mistake for experienced users is to mis-type the variable's name. For example, if you define `datasets` like this:\n",
    "\n",
    "```shell\n",
    "datasets=seasonal/*.csv\n",
    "```\n",
    "\n",
    "and then type:\n",
    "\n",
    "```shell\n",
    "echo $datsets\n",
    "```\n",
    "\n",
    "the shell doesn't print anything, because `datsets` (without the second \"a\") isn't defined.\n",
    "\n",
    "---- \n",
    "\n",
    "If you were to run these two commands in your home directory, what output would be printed?\n",
    "\n",
    "```shell\n",
    "files=seasonal/*.csv\n",
    "for f in files; do echo $f; done\n",
    "```\n",
    "\n",
    "(Read the first part of the loop carefully before answering.)\n",
    "\n",
    "- **One line: the word \"files\"**.\n",
    "- Four lines: the names of all four seasonal data files.\n",
    "- Four blank lines: the variable f isn't assigned a value"
   ]
  },
  {
   "cell_type": "markdown",
   "metadata": {},
   "source": [
    "Correct: the loop uses `files` instead of `$files`, so the list consists of the word \"files\"."
   ]
  },
  {
   "cell_type": "markdown",
   "metadata": {},
   "source": [
    "----"
   ]
  },
  {
   "cell_type": "markdown",
   "metadata": {},
   "source": [
    "### How can I run many commands in a single loop?\n",
    "\n",
    "Printing filenames is useful for debugging, but the real purpose of loops is to do things with multiple files. This loop prints the second line of each data file:\n",
    "\n",
    "```shell\n",
    "for file in seasonal/*.csv; do head -n 2 $file | tail -n 1; done\n",
    "```\n",
    "\n",
    "It has the same structure as the other loops you have already seen: all that's different is that its body is a pipeline of two commands instead of a single command.\n",
    "\n",
    "#### Instructions\n",
    "\n",
    "Write a loop that prints the last entry from July 2017 (`2017-07`) in every seasonal file. It should produce a similar output to:\n",
    "\n",
    "```shell\n",
    "grep 2017-07 seasonal/winter.csv | tail -n 1\n",
    "```\n",
    "\n",
    "but for **each** seasonal file separately. Please use `file` as the name of the loop variable, and remember to loop through the list of files `seasonal/*.csv` (instead of 'seasonal/winter.csv' as in the example)."
   ]
  },
  {
   "cell_type": "markdown",
   "metadata": {},
   "source": [
    "<p style=\"background:black\">\n",
    "<code style=\"background:black;color:white\"><span style=\"font-family:Consolas\">$ for file in seasonal/*.csv; do grep 2017-07 $file | tail -n 1; done\n",
    "2017-07-21,bicuspid\n",
    "2017-07-23,bicuspid\n",
    "2017-07-25,canine\n",
    "2017-07-17,canine</span>\n",
    "</code>\n",
    "</p>"
   ]
  },
  {
   "cell_type": "markdown",
   "metadata": {},
   "source": [
    "----"
   ]
  },
  {
   "cell_type": "markdown",
   "metadata": {},
   "source": [
    "### Why shouldn't I use spaces in filenames?\n",
    "\n",
    "It's easy and sensible to give files multi-word names like `July 2017.csv` when you are using a graphical file explorer. However, this causes problems when you are working in the shell. For example, suppose you wanted to rename `July 2017.csv` to be `2017 July data.csv`. You cannot type:\n",
    "\n",
    "```shell\n",
    "mv July 2017.csv 2017 July data.csv\n",
    "```\n",
    "\n",
    "because it looks to the shell as though you are trying to move four files called `July`, `2017.csv`, `2017`, and `July` (again) into a directory called `data.csv`. Instead, you have to quote the files' names so that the shell treats each one as a single parameter:\n",
    "\n",
    "```shell\n",
    "mv 'July 2017.csv' '2017 July data.csv'\n",
    "```\n",
    "\n",
    "----\n",
    "\n",
    "If you have two files called `current.csv` and `last year.csv` (with a space in its name) and you type:\n",
    "\n",
    "```shell\n",
    "rm current.csv last year.csv\n",
    "```\n",
    "\n",
    "what will happen:\n",
    "\n",
    "#### Possible Answers\n",
    "\n",
    "- The shell will print an error message because last and year.csv do not exist.\n",
    "- The shell will delete current.csv.\n",
    "- **Both of the above**.\n",
    "- Nothing."
   ]
  },
  {
   "cell_type": "markdown",
   "metadata": {},
   "source": [
    "You can use single quotes, ', or double quotes, \", around the file names."
   ]
  },
  {
   "cell_type": "markdown",
   "metadata": {},
   "source": [
    "----"
   ]
  },
  {
   "cell_type": "markdown",
   "metadata": {},
   "source": [
    "### How can I do many things in a single loop?\n",
    "\n",
    "The loops you have seen so far all have a single command or pipeline in their body, but a loop can contain any number of commands. To tell the shell where one ends and the next begins, you must separate them with semi-colons:\n",
    "\n",
    "```shell\n",
    "for f in seasonal/*.csv; do echo $f; head -n 2 $f | tail -n 1; done\n",
    "```\n",
    "\n",
    "```\n",
    "seasonal/autumn.csv\n",
    "2017-01-05,canine\n",
    "seasonal/spring.csv\n",
    "2017-01-25,wisdom\n",
    "seasonal/summer.csv\n",
    "2017-01-11,canine\n",
    "seasonal/winter.csv\n",
    "2017-01-03,bicuspid\n",
    "```\n",
    "\n",
    "----\n",
    "\n",
    "Suppose you forget the semi-colon between the `echo` and `head` commands in the previous loop, so that you ask the shell to run:\n",
    "\n",
    "```shell\n",
    "for f in seasonal/*.csv; do echo $f head -n 2 $f | tail -n 1; done\n",
    "```\n",
    "\n",
    "What will the shell do?\n",
    "\n",
    "#### Instructions\n",
    "\n",
    "- Print an error message.\n",
    "- **Print one line for each of the four files**.\n",
    "- Print one line for autumn.csv (the first file).\n",
    "- Print the last line of each file."
   ]
  },
  {
   "cell_type": "markdown",
   "metadata": {},
   "source": [
    "<p style=\"background:black\">\n",
    "<code style=\"background:black;color:white\"><span style=\"font-family:Consolas\">$ for f in seasonal/*.csv; do echo $f head -n 2 $f | tail -n 1; done\n",
    "seasonal/autumn.csv head -n 2 seasonal/autumn.csv\n",
    "seasonal/spring.csv head -n 2 seasonal/spring.csv\n",
    "seasonal/summer.csv head -n 2 seasonal/summer.csv\n",
    "seasonal/winter.csv head -n 2 seasonal/winter.csv</span>\n",
    "</code>\n",
    "</p>"
   ]
  },
  {
   "cell_type": "markdown",
   "metadata": {},
   "source": [
    "# Chapter 5: Creating new tools"
   ]
  },
  {
   "cell_type": "markdown",
   "metadata": {},
   "source": [
    "### How can I edit a file?\n",
    "\n",
    "Unix has a bewildering variety of text editors. For this course, we will use a simple one called Nano. If you type `nano filename`, it will open `filename` for editing (or create it if it doesn't already exist). You can move around with the arrow keys, delete characters using backspace, and do other operations with control-key combinations:\n",
    "\n",
    "- `Ctrl` + `K`: delete a line.\n",
    "- `Ctrl` + `U`: un-delete a line.\n",
    "- `Ctrl` + `O`: save the file ('O' stands for 'output'). You will also need to press Enter to confirm the filename!\n",
    "- `Ctrl` + `X`: exit the editor.\n",
    "\n",
    "#### Instructions\n",
    "\n",
    "Run `nano names.txt` to edit a new file in your home directory and enter the following four lines:\n",
    "\n",
    "```\n",
    "Lovelace\n",
    "Hopper\n",
    "Johnson\n",
    "Wilson\n",
    "```\n",
    "\n",
    "To save what you have written, type `Ctrl` + `O` to write the file out, then Enter to confirm the filename, then `Ctrl` + `X` to exit the editor."
   ]
  },
  {
   "cell_type": "markdown",
   "metadata": {},
   "source": [
    "<p style=\"background:black\">\n",
    "<code style=\"background:black;color:white\"><span style=\"font-family:Consolas\">$ nano names.txt</span>\n",
    "</code>\n",
    "</p>"
   ]
  },
  {
   "cell_type": "markdown",
   "metadata": {},
   "source": [
    "----"
   ]
  },
  {
   "cell_type": "markdown",
   "metadata": {},
   "source": [
    "### How can I record what I just did?\n",
    "\n",
    "When you are doing a complex analysis, you will often want to keep a record of the commands you used. You can do this with the tools you have already seen:\n",
    "\n",
    "1. Run `history`.\n",
    "2. Pipe its output to `tail -n 10` (or however many recent steps you want to save).\n",
    "3. Redirect that to a file called something like `figure-5.history`.\n",
    "\n",
    "This is better than writing things down in a lab notebook because it is guaranteed not to miss any steps. It also illustrates the central idea of the shell: simple tools that produce and consume lines of text can be combined in a wide variety of ways to solve a broad range of problems.\n",
    "\n",
    "#### Instructions\n",
    "\n",
    "1. Copy the files `seasonal/spring.csv` and `seasonal/summer.csv` to your home directory.\n",
    "2. Use `grep` with the `-h` flag (to stop it from printing filenames) and `-v Tooth` (to select lines that *don't* match the header line) to select the data records from `spring.csv` and `summer.csv` in that order and redirect the output to `temp.csv`.\n",
    "3. Pipe `history` into `tail -n 3` and redirect the output to `steps.txt` to save the last three commands in a file. (You need to save three instead of just two because the `history` command itself will be in the list.)"
   ]
  },
  {
   "cell_type": "markdown",
   "metadata": {},
   "source": [
    "<p style=\"background:black\">\n",
    "<code style=\"background:black;color:white\"><span style=\"font-family:Consolas\">$ cp seasonal/spring.csv seasonal/summer.csv .\n",
    "$ grep -h -v Tooth spring.csv summer.csv > temp.csv\n",
    "$ history | tail -n 3 > steps.txt</span>\n",
    "</code>\n",
    "</p>"
   ]
  },
  {
   "cell_type": "markdown",
   "metadata": {},
   "source": [
    "----"
   ]
  },
  {
   "cell_type": "markdown",
   "metadata": {},
   "source": [
    "### How can I save commands to re-run later?\n",
    "\n",
    "You have been using the shell interactively so far. But since the commands you type in are just text, you can store them in files for the shell to run over and over again. To start exploring this powerful capability, put the following command in a file called `headers.sh`:\n",
    "\n",
    "```shell\n",
    "head -n 1 seasonal/*.csv\n",
    "```\n",
    "\n",
    "This command selects the first row from each of the CSV files in the `seasonal` directory. Once you have created this file, you can run it by typing:\n",
    "\n",
    "```shell\n",
    "bash headers.sh\n",
    "```\n",
    "\n",
    "This tells the shell (which is just a program called `bash`) to run the commands contained in the file `headers.sh`, which produces the same output as running the commands directly.\n",
    "\n",
    "#### Instructions\n",
    "\n",
    "1. Use `nano dates.sh` to create a file called `dates.sh` that contains this command:\n",
    "\n",
    "```shell\n",
    "cut -d , -f 1 seasonal/*.csv\n",
    "```\n",
    "\n",
    "to extract the first column from all of the CSV files in `seasonal`.\n",
    "2. Use `bash` to run the file `dates.sh`."
   ]
  },
  {
   "cell_type": "markdown",
   "metadata": {},
   "source": [
    "<p style=\"background:black\">\n",
    "<code style=\"background:black;color:white\"><span style=\"font-family:Consolas\">$ nano dates.sh\n",
    "$ bash dates.sh\n",
    "Date\n",
    "2017-01-05\n",
    "2017-01-17\n",
    "2017-01-18\n",
    "**truncated**</span>\n",
    "</code>\n",
    "</p>"
   ]
  },
  {
   "cell_type": "markdown",
   "metadata": {},
   "source": [
    "----"
   ]
  },
  {
   "cell_type": "markdown",
   "metadata": {},
   "source": [
    "### How can I re-use pipes?\n",
    "\n",
    "A file full of shell commands is called a **shell script**, or sometimes just a \"script\" for short. Scripts don't have to have names ending in `.sh`, but this lesson will use that convention to help you keep track of which files are scripts.\n",
    "\n",
    "Scripts can also contain pipes. For example, if `all-dates.sh` contains this line:\n",
    "\n",
    "```shell\n",
    "cut -d , -f 1 seasonal/*.csv | grep -v Date | sort | uniq\n",
    "```\n",
    "\n",
    "then:\n",
    "\n",
    "```shell\n",
    "bash all-dates.sh > dates.out\n",
    "```\n",
    "\n",
    "will extract the unique dates from the seasonal data files and save them in `dates.out`.\n",
    "\n",
    "#### Instructions\n",
    "\n",
    "1. A file `teeth.sh` in your home directory has been prepared for you, but contains some blanks. Use Nano to edit the file and replace the two `____` placeholders with `seasonal/*.csv` and `-c` so that this script prints a count of the number of times each tooth name appears in the CSV files in the `seasonal` directory.\n",
    "2. Use `bash` to run `teeth.sh` and `>` to redirect its output to `teeth.out`.\n",
    "3. Run `cat teeth.out` to inspect your results."
   ]
  },
  {
   "cell_type": "markdown",
   "metadata": {},
   "source": [
    "<p style=\"background:black\">\n",
    "<code style=\"background:black;color:white\"><span style=\"font-family:Consolas\">$ nano teeth.sh\n",
    "$ bash teeth.sh > teeth.out\n",
    "$ cat teeth.out\n",
    "     15 bicuspid\n",
    "     31 canine\n",
    "     18 incisor\n",
    "     11 molar\n",
    "     17 wisdom</span>\n",
    "</code>\n",
    "</p>"
   ]
  },
  {
   "cell_type": "markdown",
   "metadata": {},
   "source": [
    "----"
   ]
  },
  {
   "cell_type": "markdown",
   "metadata": {},
   "source": [
    "### How can I pass filenames to scripts?\n",
    "\n",
    "A script that processes specific files is useful as a record of what you did, but one that allows you to process any files you want is more useful. To support this, you can use the special expression `$@` (dollar sign immediately followed by at-sign) to mean \"all of the command-line parameters given to the script\".\n",
    "\n",
    "For example, if `unique-lines.sh` contains `sort $@ | uniq`, when you run:\n",
    "\n",
    "```shell\n",
    "bash unique-lines.sh seasonal/summer.csv\n",
    "```\n",
    "\n",
    "the shell replaces `$@` with `seasonal/summer.csv` and processes one file. If you run this:\n",
    "\n",
    "```shell\n",
    "bash unique-lines.sh seasonal/summer.csv seasonal/autumn.csv\n",
    "```\n",
    "\n",
    "it processes two data files, and so on.\n",
    "\n",
    "*As a reminder, to save what you have written in Nano, type `Ctrl` + `O` to write the file out, then Enter to confirm the filename, then `Ctrl` + `X` to exit the editor*.\n",
    "\n",
    "#### Instructions\n",
    "\n",
    "1. Edit the script `count-records.sh` with Nano and fill in the two `____` placeholders with `$@` and `-l` (the letter) respectively so that it counts the number of lines in one or more files, excluding the first line of each.\n",
    "2. Run `count-records.sh` on `seasonal/*.csv` and redirect the output to `num-records.out` using `>`."
   ]
  },
  {
   "cell_type": "markdown",
   "metadata": {},
   "source": [
    "<p style=\"background:black\">\n",
    "<code style=\"background:black;color:white\"><span style=\"font-family:Consolas\">$ nano count-records.sh\n",
    "$ bash count-records.sh seasonal/*.csv > num-records.out</span>\n",
    "</code>\n",
    "</p>"
   ]
  },
  {
   "cell_type": "markdown",
   "metadata": {},
   "source": [
    "----"
   ]
  },
  {
   "cell_type": "markdown",
   "metadata": {},
   "source": [
    "### How can I process a single argument?\n",
    "\n",
    "As well as `$@`, the shell lets you use `$1`, `$2`, and so on to refer to specific command-line parameters. You can use this to write commands that feel simpler or more natural than the shell's. For example, you can create a script called `column.sh` that selects a single column from a CSV file when the user provides the filename as the first parameter and the column as the second:\n",
    "\n",
    "```shell\n",
    "cut -d , -f $2 $1\n",
    "```\n",
    "\n",
    "and then run it using:\n",
    "\n",
    "```shell\n",
    "bash column.sh seasonal/autumn.csv 1\n",
    "```\n",
    "\n",
    "Notice how the script uses the two parameters in reverse order.\n",
    "\n",
    "----\n",
    "\n",
    "The script `get-field.sh` is supposed to take a filename, the number of the row to select, the number of the column to select, and print just that field from a CSV file. For example:\n",
    "\n",
    "```shell\n",
    "bash get-field.sh seasonal/summer.csv 4 2\n",
    "```\n",
    "\n",
    "should select the second field from line 4 of `seasonal/summer.csv`. Which of the following commands should be put in `get-field.sh` to do that?\n",
    "\n",
    "#### Possible Answers\n",
    "\n",
    "- `head -n $1 $2 | tail -n 1 | cut -d , -f $3`\n",
    "- **`head -n $2 $1 | tail -n 1 | cut -d , -f $3`**\n",
    "- `head -n $3 $1 | tail -n 1 | cut -d , -f $2`\n",
    "- `head -n $2 $3 | tail -n 1 | cut -d , -f $1`"
   ]
  },
  {
   "cell_type": "markdown",
   "metadata": {},
   "source": [
    "As you can see in code `bash get-field.sh seasonal/summer.csv 4 2`\n",
    "\n",
    "- `$1` is filename\n",
    "- `$2` is linenumber\n",
    "- `$3` is field number or column number."
   ]
  },
  {
   "cell_type": "markdown",
   "metadata": {},
   "source": [
    "----"
   ]
  },
  {
   "cell_type": "markdown",
   "metadata": {},
   "source": [
    "### How can one shell script do many things?\n",
    "\n",
    "Our shells scripts so far have had a single command or pipe, but a script can contain many lines of commands. For example, you can create one that tells you how many records are in the shortest and longest of your data files, i.e., the range of your datasets' lengths.\n",
    "\n",
    "Note that in Nano, \"copy and paste\" is achieved by navigating to the line you want to copy, pressing `CTRL` + `K` to cut the line, then `CTRL` + `U` twice to paste two copies of it.\n",
    "\n",
    "*As a reminder, to save what you have written in Nano, type `Ctrl` + `O` to write the file out, then Enter to confirm the filename, then `Ctrl` + `X` to exit the editor.*\n",
    "\n",
    "#### Instructions \n",
    "\n",
    "1. Use Nano to edit the script `range.sh` and replace the two `____` placeholders with `$@` and `-v` so that it lists the names and number of lines in all of the files given on the command line *without* showing the total number of lines in all files. (Do not try to subtract the column header lines from the files.)\n",
    "2. Use Nano again to add `sort -n` and `head -n 1` in that order to the pipeline in `range.sh` to display the name and line count of the shortest file given to it.\n",
    "3. Again using Nano, add a second line to `range.sh` to print the name and record count of the *longest* file in the directory as well as the shortest. This line should be a duplicate of the one you have already written, but with `sort -n -r` rather than `sort -n`.\n",
    "4. Run the script on the files in the `seasonal` directory using `seasonal/*.csv` to match all of the files and redirect the output using `>` to a file called `range.out` in your home directory."
   ]
  },
  {
   "cell_type": "markdown",
   "metadata": {},
   "source": [
    "**Inside `range.sh` file**"
   ]
  },
  {
   "cell_type": "markdown",
   "metadata": {},
   "source": [
    "<p style=\"background:black\">\n",
    "<code style=\"background:black;color:white\"><span style=\"font-family:Consolas\">wc -l $@ | grep -v total | sort -n | head -n 1\n",
    "wc -l $@ | grep -v total | sort -n -r | head -n 1</span>\n",
    "</code>\n",
    "</p>"
   ]
  },
  {
   "cell_type": "markdown",
   "metadata": {},
   "source": [
    "<p style=\"background:black\">\n",
    "<code style=\"background:black;color:white\"><span style=\"font-family:Consolas\">$ nano range.sh\n",
    "$ nano range.sh\n",
    "$ nano range.sh\n",
    "$ bash range.sh seasonal/*.csv > range.out</span>\n",
    "</code>\n",
    "</p>"
   ]
  },
  {
   "cell_type": "markdown",
   "metadata": {},
   "source": [
    "----"
   ]
  },
  {
   "cell_type": "markdown",
   "metadata": {},
   "source": [
    "### How can I write loops in a shell script?\n",
    "\n",
    "Shell scripts can also contain loops. You can write them using semi-colons, or split them across lines without semi-colons to make them more readable:\n",
    "\n",
    "```shell\n",
    "# Print the first and last data records of each file.\n",
    "for filename in $@\n",
    "do\n",
    "    head -n 2 $filename | tail -n 1\n",
    "    tail -n 1 $filename\n",
    "done\n",
    "```\n",
    "\n",
    "(You don't have to indent the commands inside the loop, but doing so makes things clearer.)\n",
    "\n",
    "The first line of this script is a **comment** to tell readers what the script does. Comments start with the `#` character and run to the end of the line. Your future self will thank you for adding brief explanations like the one shown here to every script you write.\n",
    "\n",
    "*As a reminder, to save what you have written in Nano, type `Ctrl` + `O` to write the file out, then Enter to confirm the filename, then `Ctrl` + `X` to exit the editor.*\n",
    "\n",
    "#### Instructions\n",
    "\n",
    "1. Fill in the placeholders in the script `date-range.sh` with `$filename` (twice), `head`, and `tail` so that it prints the first and last date from one or more files.\n",
    "2. Run `date-range.sh` on all four of the seasonal data files using `seasonal/*.csv` to match their names.\n",
    "3. Run `date-range.sh` on all four of the seasonal data files using `seasonal/*.csv` to match their names, and pipe its output to `sort` to see that your scripts can be used just like Unix's built-in commands."
   ]
  },
  {
   "cell_type": "markdown",
   "metadata": {},
   "source": [
    "**Inside `date-range.sh` file**"
   ]
  },
  {
   "cell_type": "markdown",
   "metadata": {},
   "source": [
    "<p style=\"background:black\">\n",
    "<code style=\"background:black;color:white\"><span style=\"font-family:Consolas\"># Print the first and last date from each data file.\n",
    "for filename in $@\n",
    "do\n",
    "    cut -d , -f 1 $filename | grep -v Date | sort | head -n 1\n",
    "    cut -d , -f 1 $filename | grep -v Date | sort | tail -n 1\n",
    "done</span>\n",
    "</code>\n",
    "</p>"
   ]
  },
  {
   "cell_type": "markdown",
   "metadata": {},
   "source": [
    "<p style=\"background:black\">\n",
    "<code style=\"background:black;color:white\"><span style=\"font-family:Consolas\">$ nano date-range.sh\n",
    "$ bash date-range.sh seasonal/*.csv\n",
    "2017-01-05\n",
    "2017-08-16\n",
    "2017-01-25\n",
    "2017-09-07\n",
    "2017-01-11\n",
    "2017-08-04\n",
    "2017-01-03\n",
    "2017-08-13\n",
    "$ bash date-range.sh seasonal/*.csv | sort\n",
    "2017-01-03\n",
    "2017-01-05\n",
    "2017-01-11\n",
    "2017-01-25\n",
    "2017-08-04\n",
    "2017-08-13\n",
    "2017-08-16\n",
    "2017-09-07</span>\n",
    "</code>\n",
    "</p>"
   ]
  },
  {
   "cell_type": "markdown",
   "metadata": {},
   "source": [
    "----"
   ]
  },
  {
   "cell_type": "markdown",
   "metadata": {},
   "source": [
    "### What happens when I don't provide filenames?\n",
    "\n",
    "A common mistake in shell scripts (and interactive commands) is to put filenames in the wrong place. If you type:\n",
    "\n",
    "```shell\n",
    "tail -n 3\n",
    "```\n",
    "\n",
    "then since `tail` hasn't been given any filenames, it waits to read input from your keyboard. This means that if you type:\n",
    "\n",
    "```shell\n",
    "head -n 5 | tail -n 3 somefile.txt\n",
    "```\n",
    "\n",
    "then `tail` goes ahead and prints the last three lines of `somefile.txt`, but `head` waits forever for keyboard input, since it wasn't given a filename and there isn't anything ahead of it in the pipeline.\n",
    "\n",
    "----\n",
    "\n",
    "Suppose you do accidentally type:\n",
    "\n",
    "```shell\n",
    "head -n 5 | tail -n 3 somefile.txt\n",
    "```\n",
    "\n",
    "What should you do next?\n",
    "\n",
    "#### Possible Answers\n",
    "\n",
    "- Wait 10 seconds for `head` to time out.\n",
    "- Type `somefile.txt` and press Enter to give `head` some input.\n",
    "- Use `Ctrl` + `C` to stop the running `head` program."
   ]
  },
  {
   "cell_type": "markdown",
   "metadata": {},
   "source": [
    "<p style=\"background:black\">\n",
    "<code style=\"background:black;color:white\"><span style=\"font-family:Consolas\">$ head -n 5 | tail -n 3 somefile.txt\n",
    "tail: cannot open 'somefile.txt' for reading: No such file or directory\n",
    "^C</span>\n",
    "</code>\n",
    "</p>"
   ]
  }
 ],
 "metadata": {
  "kernelspec": {
   "display_name": "Python 3",
   "language": "python",
   "name": "python3"
  },
  "language_info": {
   "codemirror_mode": {
    "name": "ipython",
    "version": 3
   },
   "file_extension": ".py",
   "mimetype": "text/x-python",
   "name": "python",
   "nbconvert_exporter": "python",
   "pygments_lexer": "ipython3",
   "version": "3.7.5"
  }
 },
 "nbformat": 4,
 "nbformat_minor": 2
}
